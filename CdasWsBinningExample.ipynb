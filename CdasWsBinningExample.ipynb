{
 "cells": [
  {
   "cell_type": "markdown",
   "metadata": {},
   "source": [
    "# cdasws Binning Example Jupyter Notebook\n",
    "This [Jupyter notebook](https://jupyter.org) demonstrates using the [cdasws](https://pypi.org/project/cdasws) Python package to retrieve data from two [cdaweb](https://cdaweb.gsfc.nasa.gov) datasets that have different timestamps and places the data on the same time grid (with optional spike removal).  The data is returned in the [SpacePy data model](https://spacepy.github.io/datamodel.html).  The [AC_H0_SWE](/misc/NotesA.html#AC_H0_SWE) and [AC_H2_SWE](/misc/NotesA.html#AC_H2_SWE) datasets are used in this example.  For more information on binning, see [binning in cdaweb](/CDAWeb_Binning_readme.html).\n",
    "\n",
    "This notebook contains the following sections:\n",
    "\n",
    "1. [Prerequisites](#Prerequisites)\n",
    "2. [Setup](#Setup)\n",
    "3. [Display Original Data](#Display-Original-Data)\n",
    "4. [Get Binned Data](#Get-Binned-Data)\n",
    "5. [Compare Data](#Compare-Data)\n",
    "6. [Additional Documentation](#Additional-Documentation)"
   ]
  },
  {
   "cell_type": "markdown",
   "metadata": {},
   "source": [
    "## Prerequisites\n",
    "Install the prerequisite software the [Python Package Index](https://pypi.org/).\n",
    "\n",
    "1. pip install spacepy\n",
    "1. pip install cdasws"
   ]
  },
  {
   "cell_type": "markdown",
   "metadata": {},
   "source": [
    "## Setup\n",
    "Execute some preliminary code that is necessary before the code that follows."
   ]
  },
  {
   "cell_type": "code",
   "execution_count": 9,
   "metadata": {},
   "outputs": [],
   "source": [
    "from cdasws import CdasWs\n",
    "\n",
    "import matplotlib.pyplot as plt\n",
    "    \n",
    "cdas = CdasWs()"
   ]
  },
  {
   "cell_type": "markdown",
   "metadata": {},
   "source": [
    "## Display Original Data\n",
    "The following code gets and displays the original, unbinned data."
   ]
  },
  {
   "cell_type": "code",
   "execution_count": 10,
   "metadata": {},
   "outputs": [
    {
     "name": "stdout",
     "output_type": "stream",
     "text": [
      "AC_H0_SWE\n",
      "{'Epoch': VarCopy([datetime.datetime(1998, 2, 4, 0, 0, 31),\n",
      "         datetime.datetime(1998, 2, 4, 0, 1, 35),\n",
      "         datetime.datetime(1998, 2, 4, 0, 2, 39), ...,\n",
      "         datetime.datetime(1998, 2, 5, 23, 57, 19),\n",
      "         datetime.datetime(1998, 2, 5, 23, 58, 23),\n",
      "         datetime.datetime(1998, 2, 5, 23, 59, 27)], dtype=object), 'Np': VarCopy([-1.00000e+31, -1.00000e+31, -1.00000e+31, ...,  1.44819e+01,\n",
      "          1.49483e+01,  1.35783e+01], dtype=float32)}\n",
      "\n",
      "AC_H2_SWE\n",
      "{'Epoch': VarCopy([datetime.datetime(1998, 2, 4, 0, 0),\n",
      "         datetime.datetime(1998, 2, 4, 1, 0),\n",
      "         datetime.datetime(1998, 2, 4, 2, 0),\n",
      "         datetime.datetime(1998, 2, 4, 3, 0),\n",
      "         datetime.datetime(1998, 2, 4, 4, 0),\n",
      "         datetime.datetime(1998, 2, 4, 5, 0),\n",
      "         datetime.datetime(1998, 2, 4, 6, 0),\n",
      "         datetime.datetime(1998, 2, 4, 7, 0),\n",
      "         datetime.datetime(1998, 2, 4, 8, 0),\n",
      "         datetime.datetime(1998, 2, 4, 9, 0),\n",
      "         datetime.datetime(1998, 2, 4, 10, 0),\n",
      "         datetime.datetime(1998, 2, 4, 11, 0),\n",
      "         datetime.datetime(1998, 2, 4, 12, 0),\n",
      "         datetime.datetime(1998, 2, 4, 13, 0),\n",
      "         datetime.datetime(1998, 2, 4, 14, 0),\n",
      "         datetime.datetime(1998, 2, 4, 15, 0),\n",
      "         datetime.datetime(1998, 2, 4, 16, 0),\n",
      "         datetime.datetime(1998, 2, 4, 17, 0),\n",
      "         datetime.datetime(1998, 2, 4, 18, 0),\n",
      "         datetime.datetime(1998, 2, 4, 19, 0),\n",
      "         datetime.datetime(1998, 2, 4, 20, 0),\n",
      "         datetime.datetime(1998, 2, 4, 21, 0),\n",
      "         datetime.datetime(1998, 2, 4, 22, 0),\n",
      "         datetime.datetime(1998, 2, 4, 23, 0),\n",
      "         datetime.datetime(1998, 2, 5, 0, 0),\n",
      "         datetime.datetime(1998, 2, 5, 1, 0),\n",
      "         datetime.datetime(1998, 2, 5, 2, 0),\n",
      "         datetime.datetime(1998, 2, 5, 3, 0),\n",
      "         datetime.datetime(1998, 2, 5, 4, 0),\n",
      "         datetime.datetime(1998, 2, 5, 5, 0),\n",
      "         datetime.datetime(1998, 2, 5, 6, 0),\n",
      "         datetime.datetime(1998, 2, 5, 7, 0),\n",
      "         datetime.datetime(1998, 2, 5, 8, 0),\n",
      "         datetime.datetime(1998, 2, 5, 9, 0),\n",
      "         datetime.datetime(1998, 2, 5, 10, 0),\n",
      "         datetime.datetime(1998, 2, 5, 11, 0),\n",
      "         datetime.datetime(1998, 2, 5, 12, 0),\n",
      "         datetime.datetime(1998, 2, 5, 13, 0),\n",
      "         datetime.datetime(1998, 2, 5, 14, 0),\n",
      "         datetime.datetime(1998, 2, 5, 15, 0),\n",
      "         datetime.datetime(1998, 2, 5, 16, 0),\n",
      "         datetime.datetime(1998, 2, 5, 17, 0),\n",
      "         datetime.datetime(1998, 2, 5, 18, 0),\n",
      "         datetime.datetime(1998, 2, 5, 19, 0),\n",
      "         datetime.datetime(1998, 2, 5, 20, 0),\n",
      "         datetime.datetime(1998, 2, 5, 21, 0),\n",
      "         datetime.datetime(1998, 2, 5, 22, 0),\n",
      "         datetime.datetime(1998, 2, 5, 23, 0),\n",
      "         datetime.datetime(1998, 2, 6, 0, 0)], dtype=object), 'Np': VarCopy([-1.00000e+31, -1.00000e+31, -1.00000e+31, -1.00000e+31,\n",
      "         -1.00000e+31, -1.00000e+31, -1.00000e+31, -1.00000e+31,\n",
      "         -1.00000e+31, -1.00000e+31, -1.00000e+31, -1.00000e+31,\n",
      "         -1.00000e+31, -1.00000e+31, -1.00000e+31, -1.00000e+31,\n",
      "         -1.00000e+31, -1.00000e+31, -1.00000e+31, -1.00000e+31,\n",
      "         -1.00000e+31, -1.00000e+31, -1.00000e+31,  1.50185e+01,\n",
      "          1.66551e+01,  2.06010e+01,  1.86789e+01,  1.84808e+01,\n",
      "          2.83151e+01,  2.29591e+01,  2.67127e+01,  2.87503e+01,\n",
      "          3.11556e+01,  2.98451e+01,  2.96215e+01,  3.19601e+01,\n",
      "          2.88363e+01,  2.34173e+01,  2.58818e+01,  2.50207e+01,\n",
      "          2.76192e+01,  2.56742e+01,  2.56151e+01,  2.00080e+01,\n",
      "          1.49786e+01,  1.20008e+01,  1.34287e+01,  1.04862e+01,\n",
      "          1.06203e+01], dtype=float32)}\n"
     ]
    }
   ],
   "source": [
    "dataset0 = 'AC_H0_SWE'\n",
    "parameters = ['Np']\n",
    "start = '1998-02-04T00:00:00Z'\n",
    "stop = '1998-02-06T00:00:00Z'\n",
    "status, data0 = cdas.get_data(dataset0, parameters, start, stop)\n",
    "print(f'{dataset0}')\n",
    "print(data0)\n",
    "dataset1 = 'AC_H2_SWE'\n",
    "status, data1 = cdas.get_data(dataset1, parameters, start, stop)\n",
    "print()\n",
    "print(f'{dataset1}')\n",
    "print(data1)"
   ]
  },
  {
   "cell_type": "markdown",
   "metadata": {},
   "source": [
    "## Get Binned Data\n",
    "The following code gets data after it has been binned with 60 second time intervals and any missing values created by interpolation."
   ]
  },
  {
   "cell_type": "code",
   "execution_count": 11,
   "metadata": {},
   "outputs": [
    {
     "name": "stdout",
     "output_type": "stream",
     "text": [
      "AC_H0_SWE\n",
      "{'Epoch_bin': VarCopy([datetime.datetime(1998, 2, 4, 0, 0, 30),\n",
      "         datetime.datetime(1998, 2, 4, 0, 1, 30),\n",
      "         datetime.datetime(1998, 2, 4, 0, 2, 30), ...,\n",
      "         datetime.datetime(1998, 2, 5, 23, 57, 30),\n",
      "         datetime.datetime(1998, 2, 5, 23, 58, 30),\n",
      "         datetime.datetime(1998, 2, 5, 23, 59, 30)], dtype=object), 'Epoch': VarCopy([datetime.datetime(1998, 2, 4, 0, 0, 31),\n",
      "         datetime.datetime(1998, 2, 4, 0, 1, 35),\n",
      "         datetime.datetime(1998, 2, 4, 0, 2, 39), ...,\n",
      "         datetime.datetime(1998, 2, 5, 23, 57, 19),\n",
      "         datetime.datetime(1998, 2, 5, 23, 58, 23),\n",
      "         datetime.datetime(1998, 2, 5, 23, 59, 27)], dtype=object), 'Np': VarCopy([16.3343, 16.3343, 16.3343, ..., 14.4819, 14.9483, 13.5783],\n",
      "        dtype=float32), 'NP_NBIN': VarCopy([-0., -0., -0., ...,  1.,  1.,  1.], dtype=float32), 'NP_BIN_DELTA_MINUS_VAR': VarCopy([-1.e+31, -1.e+31, -1.e+31, ..., -1.e+31, -1.e+31, -1.e+31],\n",
      "        dtype=float32), 'NP_BIN_DELTA_PLUS_VAR': VarCopy([-1.e+31, -1.e+31, -1.e+31, ..., -1.e+31, -1.e+31, -1.e+31],\n",
      "        dtype=float32)}\n",
      "\n",
      "AC_H2_SWE\n",
      "{'Epoch_bin': VarCopy([datetime.datetime(1998, 2, 4, 0, 0, 30),\n",
      "         datetime.datetime(1998, 2, 4, 0, 1, 30),\n",
      "         datetime.datetime(1998, 2, 4, 0, 2, 30), ...,\n",
      "         datetime.datetime(1998, 2, 5, 23, 57, 30),\n",
      "         datetime.datetime(1998, 2, 5, 23, 58, 30),\n",
      "         datetime.datetime(1998, 2, 5, 23, 59, 30)], dtype=object), 'Epoch': VarCopy([datetime.datetime(1998, 2, 4, 0, 0),\n",
      "         datetime.datetime(1998, 2, 4, 1, 0),\n",
      "         datetime.datetime(1998, 2, 4, 2, 0),\n",
      "         datetime.datetime(1998, 2, 4, 3, 0),\n",
      "         datetime.datetime(1998, 2, 4, 4, 0),\n",
      "         datetime.datetime(1998, 2, 4, 5, 0),\n",
      "         datetime.datetime(1998, 2, 4, 6, 0),\n",
      "         datetime.datetime(1998, 2, 4, 7, 0),\n",
      "         datetime.datetime(1998, 2, 4, 8, 0),\n",
      "         datetime.datetime(1998, 2, 4, 9, 0),\n",
      "         datetime.datetime(1998, 2, 4, 10, 0),\n",
      "         datetime.datetime(1998, 2, 4, 11, 0),\n",
      "         datetime.datetime(1998, 2, 4, 12, 0),\n",
      "         datetime.datetime(1998, 2, 4, 13, 0),\n",
      "         datetime.datetime(1998, 2, 4, 14, 0),\n",
      "         datetime.datetime(1998, 2, 4, 15, 0),\n",
      "         datetime.datetime(1998, 2, 4, 16, 0),\n",
      "         datetime.datetime(1998, 2, 4, 17, 0),\n",
      "         datetime.datetime(1998, 2, 4, 18, 0),\n",
      "         datetime.datetime(1998, 2, 4, 19, 0),\n",
      "         datetime.datetime(1998, 2, 4, 20, 0),\n",
      "         datetime.datetime(1998, 2, 4, 21, 0),\n",
      "         datetime.datetime(1998, 2, 4, 22, 0),\n",
      "         datetime.datetime(1998, 2, 4, 23, 0),\n",
      "         datetime.datetime(1998, 2, 5, 0, 0),\n",
      "         datetime.datetime(1998, 2, 5, 1, 0),\n",
      "         datetime.datetime(1998, 2, 5, 2, 0),\n",
      "         datetime.datetime(1998, 2, 5, 3, 0),\n",
      "         datetime.datetime(1998, 2, 5, 4, 0),\n",
      "         datetime.datetime(1998, 2, 5, 5, 0),\n",
      "         datetime.datetime(1998, 2, 5, 6, 0),\n",
      "         datetime.datetime(1998, 2, 5, 7, 0),\n",
      "         datetime.datetime(1998, 2, 5, 8, 0),\n",
      "         datetime.datetime(1998, 2, 5, 9, 0),\n",
      "         datetime.datetime(1998, 2, 5, 10, 0),\n",
      "         datetime.datetime(1998, 2, 5, 11, 0),\n",
      "         datetime.datetime(1998, 2, 5, 12, 0),\n",
      "         datetime.datetime(1998, 2, 5, 13, 0),\n",
      "         datetime.datetime(1998, 2, 5, 14, 0),\n",
      "         datetime.datetime(1998, 2, 5, 15, 0),\n",
      "         datetime.datetime(1998, 2, 5, 16, 0),\n",
      "         datetime.datetime(1998, 2, 5, 17, 0),\n",
      "         datetime.datetime(1998, 2, 5, 18, 0),\n",
      "         datetime.datetime(1998, 2, 5, 19, 0),\n",
      "         datetime.datetime(1998, 2, 5, 20, 0),\n",
      "         datetime.datetime(1998, 2, 5, 21, 0),\n",
      "         datetime.datetime(1998, 2, 5, 22, 0),\n",
      "         datetime.datetime(1998, 2, 5, 23, 0),\n",
      "         datetime.datetime(1998, 2, 6, 0, 0)], dtype=object), 'Np': VarCopy([16.6551, 16.6551, 16.6551, ..., 10.4862, 10.4862, 10.4862],\n",
      "        dtype=float32), 'NP_NBIN': VarCopy([-0., -0., -0., ..., -0., -0., -0.], dtype=float32), 'NP_BIN_DELTA_MINUS_VAR': VarCopy([-1.e+31, -1.e+31, -1.e+31, ..., -1.e+31, -1.e+31, -1.e+31],\n",
      "        dtype=float32), 'NP_BIN_DELTA_PLUS_VAR': VarCopy([-1.e+31, -1.e+31, -1.e+31, ..., -1.e+31, -1.e+31, -1.e+31],\n",
      "        dtype=float32)}\n"
     ]
    }
   ],
   "source": [
    "binData = {\n",
    "    'interval': 60.0,\n",
    "    'interpolateMissingValues': True,\n",
    "    'sigmaMultiplier': 4\n",
    "}\n",
    "status, data0 = cdas.get_data(dataset0, parameters, start, stop, binData=binData)\n",
    "print(f'{dataset0}')\n",
    "print(data0)\n",
    "status, data1 = cdas.get_data(dataset1, parameters, start, stop, binData=binData)\n",
    "print()\n",
    "print(f'{dataset1}')\n",
    "print(data1)"
   ]
  },
  {
   "cell_type": "markdown",
   "metadata": {},
   "source": [
    "## Compare Data\n",
    "The following code compares the binned data from the two datasets by plotting the values."
   ]
  },
  {
   "cell_type": "code",
   "execution_count": 13,
   "metadata": {},
   "outputs": [
    {
     "data": {
      "image/png": "[encoded data removed]",
      "text/plain": [
       "<Figure size 640x480 with 1 Axes>"
      ]
     },
     "metadata": {},
     "output_type": "display_data"
    }
   ],
   "source": [
    "plt.plot(data0['Epoch_bin'], data0['Np'])\n",
    "plt.plot(data1['Epoch_bin'], data1['Np'])\n",
    "plt.xlabel(data0['Epoch'].attrs['LABLAXIS'])\n",
    "plt.xticks(rotation=45, ha='right')\n",
    "plt.ylabel(data0['Np'].attrs['LABLAXIS'] + ' ' +\n",
    "           data0['Np'].attrs['UNITS'])\n",
    "plt.legend([dataset0, dataset1])\n",
    "plt.show()"
   ]
  },
  {
   "cell_type": "markdown",
   "metadata": {},
   "source": [
    "## Additional Documentation\n",
    "\n",
    "View the [cdasws API](https://cdaweb.gsfc.nasa.gov/WebServices/REST/py/cdasws/) for additional functions.  Additional [notebook examples](https://cdaweb.gsfc.nasa.gov/WebServices/REST/#Jupyter_Notebook_Examples) are also available."
   ]
  },
  {
   "cell_type": "code",
   "execution_count": null,
   "metadata": {},
   "outputs": [],
   "source": []
  }
 ],
 "metadata": {
  "kernelspec": {
   "display_name": "Python 3 (ipykernel)",
   "language": "python",
   "name": "python3"
  },
  "language_info": {
   "codemirror_mode": {
    "name": "ipython",
    "version": 3
   },
   "file_extension": ".py",
   "mimetype": "text/x-python",
   "name": "python",
   "nbconvert_exporter": "python",
   "pygments_lexer": "ipython3",
   "version": "3.9.18"
  }
 },
 "nbformat": 4,
 "nbformat_minor": 4
}
