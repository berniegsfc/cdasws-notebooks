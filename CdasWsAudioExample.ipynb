{
 "cells": [
  {
   "cell_type": "markdown",
   "metadata": {},
   "source": [
    "# cdasws Audification Example Jupyter Notebook\n",
    "This [Jupyter notebook](https://jupyter.org) demonstrates using the [cdasws](https://pypi.org/project/cdasws) Python package to [audify](https://cdaweb.gsfc.nasa.gov/audification_readme.html) multiple short high-time-resolution bursts from the Van Allen Probes High Frequency Receiver (HFR) Field Waveform Samples.  This notebook contains the following sections:\n",
    "\n",
    "1. [Prerequisites](#Prerequisites)\n",
    "2. [Setup](#Setup)\n",
    "3. [Get Audification of Data](#Get-Audification-of-Data)\n",
    "4. [Play Audification](#Play-Audification)\n",
    "5. [Additional Documentation](#Additional-Documentation)\n",
    "\n",
    "**Notes**: \n",
    "1. This example only depends upon pure Python modules and does not require modules that depend upon non-Python code (such as spacepy and pycdf)."
   ]
  },
  {
   "cell_type": "markdown",
   "metadata": {},
   "source": [
    "## Prerequisites\n",
    "Install the prerequisite software from the [Python Package Index](https://pypi.org/) if it is not already installed."
   ]
  },
  {
   "cell_type": "code",
   "execution_count": 12,
   "metadata": {},
   "outputs": [],
   "source": [
    "#%pip install -U cdasws"
   ]
  },
  {
   "cell_type": "markdown",
   "metadata": {},
   "source": [
    "## Setup\n",
    "Execute some preliminary code that is necessary before the code that follows."
   ]
  },
  {
   "cell_type": "code",
   "execution_count": 13,
   "metadata": {},
   "outputs": [],
   "source": [
    "from cdasws import CdasWs\n",
    "\n",
    "from IPython.core.display import HTML\n",
    "\n",
    "cdas = CdasWs()"
   ]
  },
  {
   "cell_type": "markdown",
   "metadata": {},
   "source": [
    "## Get Audification of Data\n",
    "The following code demonstrates how to produce an [audification](https://cdaweb.gsfc.nasa.gov/audification_readme.html) of multiple short high-time-resolution bursts from the Van Allen Probes High Frequency Receiver (HFR) Field Waveform Samples\n",
    "[RBSP-A_HFR-WAVEFORM_EMFISIS-L2](https://cdaweb.gsfc.nasa.gov/misc/NotesR.html#RBSP-A_HFR-WAVEFORM_EMFISIS-L2)."
   ]
  },
  {
   "cell_type": "code",
   "execution_count": 14,
   "metadata": {},
   "outputs": [],
   "source": [
    "status, result = cdas.get_audio('RBSP-A_HFR-WAVEFORM_EMFISIS-L2',\n",
    "                                ['HFRsamples_times'],\n",
    "                        '2013-09-11T05:00:00Z', '2013-09-11T07:30:00Z')"
   ]
  },
  {
   "cell_type": "markdown",
   "metadata": {},
   "source": [
    "## Play Audification\n",
    "The following code demonstrates how to play the audification file."
   ]
  },
  {
   "cell_type": "code",
   "execution_count": 15,
   "metadata": {
    "scrolled": true
   },
   "outputs": [
    {
     "data": {
      "text/html": [
       "<audio controls><source src=\"https://cdaweb.gsfc.nasa.gov/tmp/wsutQhiT/RBSP-A_HFR-WAVEFORM_EMFISIS-L2__000_000.wav\" type=\"audio/wav\">Your browser does not support playing audio inline.</audio>"
      ],
      "text/plain": [
       "<IPython.core.display.HTML object>"
      ]
     },
     "metadata": {},
     "output_type": "display_data"
    }
   ],
   "source": [
    "if status == 200:\n",
    "    audio_url = result['FileDescription'][0]['Name']\n",
    "    display(HTML('<audio controls><source src=\"' + audio_url +\n",
    "                 '\" type=\"audio/wav\">' +\n",
    "                 'Your browser does not support playing audio inline.</audio>'))\n",
    "else:\n",
    "    print('Error getting audification: ', status)"
   ]
  },
  {
   "cell_type": "markdown",
   "metadata": {},
   "source": [
    "## Additional Documentation\n",
    "\n",
    "View the [cdasws API](https://cdaweb.gsfc.nasa.gov/WebServices/REST/py/cdasws/) for additional functions.  Additional [notebook examples](https://cdaweb.gsfc.nasa.gov/WebServices/REST/#Jupyter_Notebook_Examples) are also available."
   ]
  },
  {
   "cell_type": "code",
   "execution_count": null,
   "metadata": {},
   "outputs": [],
   "source": []
  }
 ],
 "metadata": {
  "kernelspec": {
   "display_name": "Python 3",
   "language": "python",
   "name": "python3"
  },
  "language_info": {
   "codemirror_mode": {
    "name": "ipython",
    "version": 3
   },
   "file_extension": ".py",
   "mimetype": "text/x-python",
   "name": "python",
   "nbconvert_exporter": "python",
   "pygments_lexer": "ipython3",
   "version": "3.6.12"
  }
 },
 "nbformat": 4,
 "nbformat_minor": 4
}
