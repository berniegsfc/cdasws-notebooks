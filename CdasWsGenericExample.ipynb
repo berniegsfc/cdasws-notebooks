{
 "cells": [
  {
   "cell_type": "markdown",
   "metadata": {},
   "source": [
    "## cdasws Example Jupyter Notebook For Binder\n",
    "This [notebook](https://jupyter.org) demonstrates using the [cdasws](https://pypi.org/project/cdasws) to access data from [cdaweb](https://cdaweb.gsfc.nasa.gov) with the data returned in the [xarray.Dataset](https://docs.xarray.dev/en/stable/generated/xarray.Dataset.html).  It is specifically designed to be launched on [binder](https://binder.org) for any specific cdaweb dataset.  For other cdasws notebook see [notebook examples](https://cdaweb.gsfc.nasa.gov/WebServices/REST/#Jupyter_Notebook_Examples).\n"
   ]
  },
  {
   "cell_type": "markdown",
   "metadata": {},
   "source": [
    "### Setup"
   ]
  },
  {
   "cell_type": "code",
   "execution_count": 16,
   "metadata": {},
   "outputs": [],
   "source": [
    "from datetime import datetime, timedelta\n",
    "import re\n",
    "from cdasws import CdasWs\n",
    "from cdasws.datarepresentation import DataRepresentation\n",
    "cdas = CdasWs()"
   ]
  },
  {
   "cell_type": "markdown",
   "metadata": {},
   "source": [
    "### Select A Dataset\n",
    "The dataset value is set by the [jupyter-notebookparams](https://pypi.org/project/jupyter-notebookparams/) when this notebook is launched on [binder](https://mybinder.org/)."
   ]
  },
  {
   "cell_type": "code",
   "execution_count": 17,
   "metadata": {},
   "outputs": [],
   "source": [
    "# Parameters:\n",
    "#dataset = 'AC_H0_MFI'"
   ]
  },
  {
   "cell_type": "markdown",
   "metadata": {},
   "source": [
    "### Get Dataset Information\n",
    "The following code demontrates how to get information about a dataset."
   ]
  },
  {
   "cell_type": "code",
   "execution_count": 18,
   "metadata": {},
   "outputs": [
    {
     "name": "stdout",
     "output_type": "stream",
     "text": [
      "AC_H0_MFI : H0 - ACE Magnetic Field 16-Second Level 2 Data - N. Ness (Bartol Research Institute)\n",
      "Time range: 1997-09-02T00:00:12.000Z to 2022-07-11T23:59:57.000Z\n",
      "Princple Investigator: N. Ness : Bartol Research Institute\n",
      "Notes: https://cdaweb.gsfc.nasa.gov/misc/NotesA.html#AC_H0_MFI\n",
      "DOI: 10.48322/e0dc-0h53\n"
     ]
    }
   ],
   "source": [
    "#print(dataset)\n",
    "datasets = cdas.get_datasets(idPattern=dataset)\n",
    "ds_info = datasets[0]\n",
    "#print(ds_info)\n",
    "print(ds_info['Id'], ':', ds_info['Label'])\n",
    "ds_time_interval = ds_info['TimeInterval']\n",
    "print('Time range:', ds_time_interval['Start'], 'to', \n",
    "      ds_time_interval['End'])\n",
    "print('Princple Investigator:', ds_info['PiName'], ':', \n",
    "      ds_info['PiAffiliation'])\n",
    "print('Notes:', ds_info['Notes'])\n",
    "if ds_info['Doi']:\n",
    "    print('DOI:', ds_info['Doi'])\n",
    "    # when cdasws 1.7.42 is released\n",
    "    #print('DOI landing page:', \n",
    "    #      get_doi_landing_page_url(ds_info['Doi']))"
   ]
  },
  {
   "cell_type": "markdown",
   "metadata": {},
   "source": [
    "### Get An Example Time Interval\n",
    "The following code get a small example time interval."
   ]
  },
  {
   "cell_type": "code",
   "execution_count": 19,
   "metadata": {},
   "outputs": [
    {
     "name": "stdout",
     "output_type": "stream",
     "text": [
      "Example time interval 2022-07-11T21:59:57+00:00 2022-07-11T23:59:57+00:00\n"
     ]
    }
   ],
   "source": [
    "# when cdasws 1.7.42 is released, eliminate this function and use\n",
    "# example_interval = cdas.get_example_time_interval(dataset)\n",
    "#\n",
    "def get_example_time_interval(dataset: str):\n",
    "    time_intervals = cdas.get_inventory(dataset)\n",
    "    if len(time_intervals) < 1:\n",
    "        return None\n",
    "    example_interval = time_intervals[-1]\n",
    "    if re.search('MMS[1-4]_.+_BRST_.+', dataset):\n",
    "        time_delta = timedelta(seconds=1)\n",
    "    else:\n",
    "        time_delta = timedelta(hours=2)\n",
    "    example_interval.start = example_interval.end - time_delta\n",
    "    return example_interval\n",
    "\n",
    "example_interval = get_example_time_interval(dataset)\n",
    "print('Example time interval:', example_interval)"
   ]
  },
  {
   "cell_type": "markdown",
   "metadata": {},
   "source": [
    "### Get Dataset Variable Names\n",
    "The following code demonstrates how to get a dataset's variable names."
   ]
  },
  {
   "cell_type": "code",
   "execution_count": 20,
   "metadata": {},
   "outputs": [
    {
     "name": "stdout",
     "output_type": "stream",
     "text": [
      "Variable names: ['Magnitude', 'BGSEc', 'BGSM', 'dBrms', 'SC_pos_GSE', 'SC_pos_GSM']\n"
     ]
    }
   ],
   "source": [
    "var_names = cdas.get_variable_names(dataset)\n",
    "print('Variable names:', var_names)"
   ]
  },
  {
   "cell_type": "markdown",
   "metadata": {},
   "source": [
    "### Get Data Example\n",
    "The following code demonstrates how to get data from [cdaweb](https://cdaweb.gsfc.nasa.gov/) using the [cdasws](https://pypi.org/project/cdasws/).\n",
    "\n",
    "**Notes**: The use of the dataRepresentation keyword parameter below is only necessary if you also have [spacepy](https://pypi.org/project/spacepy) installed."
   ]
  },
  {
   "cell_type": "code",
   "execution_count": 21,
   "metadata": {},
   "outputs": [
    {
     "name": "stdout",
     "output_type": "stream",
     "text": [
      "<xarray.Dataset>\n",
      "Dimensions:     (Epoch: 451, cartesian: 3)\n",
      "Coordinates:\n",
      "  * Epoch       (Epoch) datetime64[ns] 2022-07-11T21:59:57 ... 2022-07-11T23:...\n",
      "  * cartesian   (cartesian) <U11 'x_component' 'y_component' 'z_component'\n",
      "    metavar0    (cartesian) <U6 'Bx GSE' 'By GSE' 'Bz GSE'\n",
      "    metavar1    (cartesian) <U8 'Bx (GSM)' 'By (GSM)' 'Bz (GSM)'\n",
      "    metavar2    (cartesian) <U9 'ACE X-GSE' 'ACE Y-GSE' 'ACE Z-GSE'\n",
      "    metavar3    (cartesian) <U9 'ACE X-GSM' 'ACE Y-GSM' 'ACE Z-GSM'\n",
      "Data variables:\n",
      "    Magnitude   (Epoch) float32 10.85 10.85 10.9 10.81 ... 9.422 9.391 9.293\n",
      "    BGSEc       (Epoch, cartesian) float32 -2.783 10.13 -2.697 ... 8.846 -1.508\n",
      "    BGSM        (Epoch, cartesian) float32 -2.783 10.2 -2.439 ... 8.872 -1.346\n",
      "    dBrms       (Epoch) float32 0.307 0.346 0.599 0.298 ... 0.575 0.715 1.214\n",
      "    SC_pos_GSE  (Epoch, cartesian) float32 1.475e+06 2.396e+05 ... 285.0\n",
      "    SC_pos_GSM  (Epoch, cartesian) float32 1.475e+06 2.395e+05 ... 4.655e+03\n",
      "Attributes:\n",
      "    TITLE:                       ACE> Magnetometer Parameters\n",
      "    Project:                     ISTP>International Solar-Terrestrial Physics\n",
      "    Discipline:                  Space Physics>Interplanetary Studies\n",
      "    Source_name:                 AC>Advanced Composition Explorer\n",
      "    Data_type:                   H0>16-Sec Level 2 Data\n",
      "    Descriptor:                  MAG>ACE Magnetic Field Instrument\n",
      "    DATA_VERSION:                7\n",
      "    GENERATED_BY:                ACE Science Center\n",
      "    GENERATION_DATE:             2022081\n",
      "    LINK_TEXT:                   Release notes and other info available at\n",
      "    LINK_TITLE:                  the ACE Science Center Level 2 Data website\n",
      "    HTTP_LINK:                   http://www.srl.caltech.edu/ACE/ASC/level2/in...\n",
      "    Text:                        ['CDAWeb interface derived data on Thu Oct 2...\n",
      "    MODS:                        ['Initial Release 9/7/01', '12/04/02: Fixed ...\n",
      "    ADID_ref:                    NSSD0327\n",
      "    Logical_file_id:             ac_h0s_mfi_20220711215957_20220711235957\n",
      "    Logical_source:              AC_H0S_MFI\n",
      "    Logical_source_description:  DERIVED FROM: H0 - ACE Magnetic Field 16-Sec...\n",
      "    PI_name:                     N. Ness\n",
      "    PI_affiliation:              Bartol Research Institute\n",
      "    Mission_group:               ['ACE', '!___Interplanetary Data near 1 AU']\n",
      "    Instrument_type:             Magnetic Fields (space)\n",
      "    TIME_RESOLUTION:             16 second\n",
      "    WEB_SITE:                    http://www.srl.caltech.edu/ACE/\n",
      "    ACKNOWLEDGEMENT:             ['Please acknowledge the Principal', 'Invest...\n",
      "    RULES_OF_USE:                ['See the rules of use available from the AC...\n",
      "    ALT_LOGICAL_SOURCE:          ACE_MAG_Solar-Wind-Magnetic-Field-Level2-H0_...\n",
      "    SPASE_DATASETRESOURCEID:     spase://NASA/NumericalData/ACE/MAG/L2/PT16S\n",
      "    CDAWEB_PARENTS:              ['ac_h0_mfi_00000000_v01', 'ac_h0_mfi_202207...\n"
     ]
    }
   ],
   "source": [
    "data = cdas.get_data(dataset, var_names, example_interval,\n",
    "                     dataRepresentation = DataRepresentation.XARRAY)[1]\n",
    "print(data)"
   ]
  },
  {
   "cell_type": "markdown",
   "metadata": {},
   "source": [
    "### Additional Documentation\n",
    "\n",
    "View the [cdasws API](https://cdaweb.gsfc.nasa.gov/WebServices/REST/py/cdasws/) for additional functions.  Additional [notebook examples](https://cdaweb.gsfc.nasa.gov/WebServices/REST/#Jupyter_Notebook_Examples) are also available."
   ]
  },
  {
   "cell_type": "code",
   "execution_count": null,
   "metadata": {},
   "outputs": [],
   "source": []
  }
 ],
 "metadata": {
  "kernelspec": {
   "display_name": "Python 3",
   "language": "python",
   "name": "python3"
  },
  "language_info": {
   "codemirror_mode": {
    "name": "ipython",
    "version": 3
   },
   "file_extension": ".py",
   "mimetype": "text/x-python",
   "name": "python",
   "nbconvert_exporter": "python",
   "pygments_lexer": "ipython3",
   "version": "3.6.12"
  }
 },
 "nbformat": 4,
 "nbformat_minor": 4
}
