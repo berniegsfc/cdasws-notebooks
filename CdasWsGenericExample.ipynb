{
 "cells": [
  {
   "cell_type": "markdown",
   "metadata": {},
   "source": [
    "# cdasws Example Jupyter Notebook For Binder\n",
    "This [notebook](https://jupyter.org) demonstrates using the [cdasws](https://pypi.org/project/cdasws) to access data from [cdaweb](https://cdaweb.gsfc.nasa.gov) with the data returned in the [xarray.Dataset](https://docs.xarray.dev/en/stable/generated/xarray.Dataset.html).  It is specifically designed to be launched on [binder](https://binder.org) for any specific cdaweb dataset.  For other cdasws jupyter notebooks see [notebook examples](https://cdaweb.gsfc.nasa.gov/WebServices/REST/#Jupyter_Notebook_Examples).  This notebook contains the following sections:\n",
    "\n",
    "1. [Setup](#Setup)\n",
    "2. [Select A Dataset](#Select-A-Dataset)\n",
    "3. [Get Dataset Information](#Get-Dataset-Information)\n",
    "4. [Get An Example Time Interval](#Get-An-Example-Time-Interval)\n",
    "5. [Get Dataset Variable Names](#Get-Dataset-Variable-Names)\n",
    "6. [Get Data](#Get-Data)\n",
    "7. [Additional Documentation](#Additional-Documentation)\n"
   ]
  },
  {
   "cell_type": "markdown",
   "metadata": {},
   "source": [
    "## Setup\n",
    "Execute some preliminary code that is necessary before the code that follows."
   ]
  },
  {
   "cell_type": "code",
   "execution_count": 4,
   "metadata": {},
   "outputs": [],
   "source": [
    "from datetime import datetime, timedelta\n",
    "import re\n",
    "from cdasws import CdasWs\n",
    "from cdasws.datarepresentation import DataRepresentation as dr\n",
    "cdas = CdasWs()"
   ]
  },
  {
   "cell_type": "markdown",
   "metadata": {},
   "source": [
    "## Select A Dataset\n",
    "The dataset value is set by the [jupyter-notebookparams](https://pypi.org/project/jupyter-notebookparams/) when this notebook is launched on [binder](https://mybinder.org/)."
   ]
  },
  {
   "cell_type": "code",
   "execution_count": 5,
   "metadata": {},
   "outputs": [],
   "source": [
    "# Parameters:\n",
    "dataset = 'AC_H2_MFI'"
   ]
  },
  {
   "cell_type": "markdown",
   "metadata": {},
   "source": [
    "## Get Dataset Information\n",
    "The following code demontrates how to get information about a dataset."
   ]
  },
  {
   "cell_type": "code",
   "execution_count": 6,
   "metadata": {},
   "outputs": [
    {
     "name": "stdout",
     "output_type": "stream",
     "text": [
      "AC_H2_MFI : H2 - ACE Magnetic Field 1-Hour Level 2 Data - N. Ness (Bartol Research Institute)\n",
      "Time range: 1997-09-02T00:00:00.000Z to 2023-01-16T23:00:00.000Z\n",
      "Princple Investigator: N. Ness : Bartol Research Institute\n",
      "Notes: https://cdaweb.gsfc.nasa.gov/misc/NotesA.html#AC_H2_MFI\n",
      "DOI: 10.48322/fh85-fj47\n",
      "DOI landing page: https://doi.org/10.48322/fh85-fj47\n"
     ]
    }
   ],
   "source": [
    "#print(dataset)\n",
    "datasets = cdas.get_datasets(idPattern=dataset)\n",
    "ds_info = datasets[0]\n",
    "#print(ds_info)\n",
    "print(ds_info['Id'], ':', ds_info['Label'])\n",
    "ds_time_interval = ds_info['TimeInterval']\n",
    "print('Time range:', ds_time_interval['Start'], 'to', \n",
    "      ds_time_interval['End'])\n",
    "print('Princple Investigator:', ds_info['PiName'], ':', \n",
    "      ds_info['PiAffiliation'])\n",
    "print('Notes:', ds_info['Notes'])\n",
    "if 'Doi' in ds_info and ds_info['Doi']:\n",
    "    print('DOI:', ds_info['Doi'])\n",
    "    print('DOI landing page:', \n",
    "          cdas.get_doi_landing_page_url(ds_info['Doi']))"
   ]
  },
  {
   "cell_type": "markdown",
   "metadata": {},
   "source": [
    "## Get An Example Time Interval\n",
    "The following code gets a small example time interval."
   ]
  },
  {
   "cell_type": "code",
   "execution_count": 7,
   "metadata": {},
   "outputs": [
    {
     "name": "stdout",
     "output_type": "stream",
     "text": [
      "Example time interval: 2023-01-16T21:00:00+00:00 2023-01-16T23:00:00+00:00\n"
     ]
    }
   ],
   "source": [
    "example_interval = cdas.get_example_time_interval(dataset)\n",
    "print('Example time interval:', example_interval)"
   ]
  },
  {
   "cell_type": "markdown",
   "metadata": {},
   "source": [
    "## Get Dataset Variable Names\n",
    "The following code demonstrates how to get a dataset's variable names."
   ]
  },
  {
   "cell_type": "code",
   "execution_count": 8,
   "metadata": {},
   "outputs": [
    {
     "name": "stdout",
     "output_type": "stream",
     "text": [
      "Variable names: ['Magnitude', 'BGSEc', 'BGSM', 'SC_pos_GSE', 'SC_pos_GSM']\n"
     ]
    }
   ],
   "source": [
    "var_names = cdas.get_variable_names(dataset)\n",
    "print('Variable names:', var_names)"
   ]
  },
  {
   "cell_type": "markdown",
   "metadata": {},
   "source": [
    "## Get Data\n",
    "The following code demonstrates how to get data from [cdaweb](https://cdaweb.gsfc.nasa.gov/) using the [cdasws](https://pypi.org/project/cdasws/).\n",
    "\n",
    "**Notes**: The use of the dataRepresentation keyword parameter below is only necessary if you also have [spacepy](https://pypi.org/project/spacepy) installed."
   ]
  },
  {
   "cell_type": "code",
   "execution_count": 9,
   "metadata": {},
   "outputs": [
    {
     "name": "stdout",
     "output_type": "stream",
     "text": [
      "<xarray.Dataset>\n",
      "Dimensions:     (Epoch: 3, cartesian: 3)\n",
      "Coordinates:\n",
      "  * Epoch       (Epoch) datetime64[ns] 2023-01-16T21:00:00 ... 2023-01-16T23:...\n",
      "  * cartesian   (cartesian) <U11 'x_component' 'y_component' 'z_component'\n",
      "    metavar0    (cartesian) <U6 'Bx GSE' 'By GSE' 'Bz GSE'\n",
      "    metavar1    (cartesian) <U8 'Bx (GSM)' 'By (GSM)' 'Bz (GSM)'\n",
      "    metavar2    (cartesian) <U9 'ACE X-GSE' 'ACE Y-GSE' 'ACE Z-GSE'\n",
      "    metavar3    (cartesian) <U9 'ACE X-GSM' 'ACE Y-GSM' 'ACE Z-GSM'\n",
      "Data variables:\n",
      "    Magnitude   (Epoch) float32 3.524 4.661 5.181\n",
      "    BGSEc       (Epoch, cartesian) float32 0.545 -2.145 1.548 ... 0.825 2.102\n",
      "    BGSM        (Epoch, cartesian) float32 0.545 -2.546 0.717 ... 0.019 2.258\n",
      "    SC_pos_GSE  (Epoch, cartesian) float32 1.47e+06 2.422e+05 ... -4.68e+04\n",
      "    SC_pos_GSM  (Epoch, cartesian) float32 1.47e+06 2.435e+05 ... 4.303e+04\n",
      "Attributes:\n",
      "    TITLE:                       ACE> Magnetometer Parameters\n",
      "    Project:                     ['ACE>Advanced Composition Explorer', 'ISTP>...\n",
      "    Discipline:                  Space Physics>Interplanetary Studies\n",
      "    Source_name:                 AC>Advanced Composition Explorer\n",
      "    Data_type:                   H2>1-Hr Level 2 Data\n",
      "    Descriptor:                  MAG>ACE Magnetic Field Instrument\n",
      "    DATA_VERSION:                7\n",
      "    GENERATED_BY:                ACE Science Center\n",
      "    GENERATION_DATE:             20230313\n",
      "    LINK_TEXT:                   Release notes and other info available at\n",
      "    LINK_TITLE:                  the ACE Science Center Level 2 Data website\n",
      "    HTTP_LINK:                   http://www.srl.caltech.edu/ACE/ASC/level2/in...\n",
      "    Text:                        ['CDAWeb interface derived data on Thu Apr  ...\n",
      "    MODS:                        ['Initial Release 9/6/01', '12/04/02: Fixed ...\n",
      "    ADID_ref:                    NSSD0327\n",
      "    Logical_file_id:             ac_h2s_mfi_20230116210000_20230116230000\n",
      "    Logical_source:              AC_H2S_MFI\n",
      "    Logical_source_description:  DERIVED FROM: H2 - ACE Magnetic Field 1-Hour...\n",
      "    PI_name:                     N. Ness\n",
      "    PI_affiliation:              Bartol Research Institute\n",
      "    Mission_group:               ['ACE', '!___Interplanetary Data near 1 AU']\n",
      "    Instrument_type:             Magnetic Fields (space)\n",
      "    TIME_RESOLUTION:             1 hour\n",
      "    WEB_SITE:                    http://www.srl.caltech.edu/ACE/\n",
      "    ACKNOWLEDGEMENT:             ['Please acknowledge the Principal', 'Invest...\n",
      "    RULES_OF_USE:                ['See the rules of use available from the AC...\n",
      "    ALT_LOGICAL_SOURCE:          ACE_MAG_Solar-Wind-Magnetic-Field-Level2-H2_...\n",
      "    SPASE_DATASETRESOURCEID:     spase://NASA/NumericalData/ACE/MAG/L2/PT1H\n",
      "    CDAWEB_PARENTS:              ['ac_h2_mfi_00000000_v01', 'ac_h2_mfi_202301...\n"
     ]
    }
   ],
   "source": [
    "data = cdas.get_data(dataset, var_names, example_interval,\n",
    "                     dataRepresentation = dr.XARRAY)[1]\n",
    "print(data)"
   ]
  },
  {
   "cell_type": "markdown",
   "metadata": {},
   "source": [
    "### Additional Documentation\n",
    "\n",
    "View the [cdasws API](https://cdaweb.gsfc.nasa.gov/WebServices/REST/py/cdasws/) for additional functions.  Additional [notebook examples](https://cdaweb.gsfc.nasa.gov/WebServices/REST/#Jupyter_Notebook_Examples) are also available."
   ]
  },
  {
   "cell_type": "code",
   "execution_count": null,
   "metadata": {},
   "outputs": [],
   "source": []
  }
 ],
 "metadata": {
  "kernelspec": {
   "display_name": "Python 3",
   "language": "python",
   "name": "python3"
  },
  "language_info": {
   "codemirror_mode": {
    "name": "ipython",
    "version": 3
   },
   "file_extension": ".py",
   "mimetype": "text/x-python",
   "name": "python",
   "nbconvert_exporter": "python",
   "pygments_lexer": "ipython3",
   "version": "3.6.12"
  }
 },
 "nbformat": 4,
 "nbformat_minor": 4
}
