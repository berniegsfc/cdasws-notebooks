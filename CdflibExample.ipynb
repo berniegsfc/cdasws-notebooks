{
 "cells": [
  {
   "cell_type": "markdown",
   "metadata": {},
   "source": [
    "# cdflib Example Jupyter Notebook\n",
    "\n",
    "## Note\n",
    "\n",
    "This notebook is a prototype and not a member of the official collection of cdasws notebooks.\n",
    "\n",
    "---\n",
    "\n",
    "This [Jupyter notebook](https://jupyter.org) demonstrates using cdflib to ...  This notebook contains the following sections:\n",
    "\n",
    "1. [Prerequisites](#Prerequisites)\n",
    "1. [Setup](#Setup)\n",
    "1. ???\n",
    "1. [Additional Documentation](#Additional-Documentation)"
   ]
  },
  {
   "cell_type": "markdown",
   "metadata": {},
   "source": [
    "## Prerequisites\n",
    "..."
   ]
  },
  {
   "cell_type": "markdown",
   "metadata": {},
   "source": [
    "## Setup\n",
    "..."
   ]
  },
  {
   "cell_type": "code",
   "execution_count": 1,
   "metadata": {
    "tags": []
   },
   "outputs": [],
   "source": [
    "import ipywidgets as widgets\n",
    "import cdflib"
   ]
  },
  {
   "cell_type": "markdown",
   "metadata": {},
   "source": [
    "## Upload a CDF\n",
    "Upload a CDF from the local computer to the hosted notebook environment."
   ]
  },
  {
   "cell_type": "code",
   "execution_count": 2,
   "metadata": {},
   "outputs": [
    {
     "data": {
      "application/vnd.jupyter.widget-view+json": {
       "model_id": "48ec9f13f5974055abd8b11f1dcc2b67",
       "version_major": 2,
       "version_minor": 0
      },
      "text/plain": [
       "FileUpload(value=(), description='Upload')"
      ]
     },
     "metadata": {},
     "output_type": "display_data"
    }
   ],
   "source": [
    "uploader = widgets.FileUpload()\n",
    "display(uploader)\n",
    "#uploader.value"
   ]
  },
  {
   "cell_type": "markdown",
   "metadata": {},
   "source": [
    "## Save the CDF\n",
    "Save the uploaded CDF to the hosted notebook environment."
   ]
  },
  {
   "cell_type": "code",
   "execution_count": 4,
   "metadata": {
    "tags": []
   },
   "outputs": [],
   "source": [
    "uploaded_file = uploader.value[0]\n",
    "uploaded_file.content.tobytes()\n",
    "with open(uploaded_file.name, \"wb\") as fp:\n",
    "    fp.write(uploaded_file.content)"
   ]
  },
  {
   "cell_type": "markdown",
   "metadata": {},
   "source": [
    "## Read the CDF\n",
    "Read the CDF and print information about the CDF."
   ]
  },
  {
   "cell_type": "code",
   "execution_count": 6,
   "metadata": {
    "tags": []
   },
   "outputs": [
    {
     "name": "stdout",
     "output_type": "stream",
     "text": [
      "CDFInfo(CDF=PosixPath('/Users/btharris/Projects/Spdf/hdpSpaseApi/docs/jupyter/ac_h0s_mfi_20060101000030_20060101235930.cdf'), Version='3.9.0', Encoding=1, Majority='Column_major', rVariables=[], zVariables=['Epoch_bin', 'Epoch', 'Magnitude', 'BGSEc', 'BGSM', 'dBrms', 'SC_pos_GSE', 'SC_pos_GSM', 'MAGNITUDE_NBIN', 'MAGNITUDE_BIN_DELTA_MINUS_VAR', 'MAGNITUDE_BIN_DELTA_PLUS_VAR', 'BGSEC_NBIN', 'BGSEC_BIN_DELTA_MINUS_VAR', 'BGSEC_BIN_DELTA_PLUS_VAR', 'BGSM_NBIN', 'BGSM_BIN_DELTA_MINUS_VAR', 'BGSM_BIN_DELTA_PLUS_VAR', 'DBRMS_NBIN', 'DBRMS_BIN_DELTA_MINUS_VAR', 'DBRMS_BIN_DELTA_PLUS_VAR', 'SC_POS_GSE_NBIN', 'SC_POS_GSE_BIN_DELTA_MINUS_VAR', 'SC_POS_GSE_BIN_DELTA_PLUS_VAR', 'SC_POS_GSM_NBIN', 'SC_POS_GSM_BIN_DELTA_MINUS_VAR', 'SC_POS_GSM_BIN_DELTA_PLUS_VAR', 'cartesian_bin', 'cartesian', 'metavar0', 'metavar1', 'metavar2', 'metavar3', 'metavar4', 'metavar5', 'metavar6', 'metavar7', 'metavar8'], Attributes=[{'TITLE': 'Global'}, {'Project': 'Global'}, {'Discipline': 'Global'}, {'Source_name': 'Global'}, {'Data_type': 'Global'}, {'Descriptor': 'Global'}, {'Data_version': 'Global'}, {'Generated_by': 'Global'}, {'Generation_date': 'Global'}, {'LINK_TEXT': 'Global'}, {'LINK_TITLE': 'Global'}, {'HTTP_LINK': 'Global'}, {'TEXT': 'Global'}, {'MODS': 'Global'}, {'ADID_ref': 'Global'}, {'Logical_file_id': 'Global'}, {'Logical_source': 'Global'}, {'Logical_source_description': 'Global'}, {'PI_name': 'Global'}, {'PI_affiliation': 'Global'}, {'Mission_group': 'Global'}, {'Instrument_type': 'Global'}, {'Time_resolution': 'Global'}, {'Web_site': 'Global'}, {'Acknowledgement': 'Global'}, {'Rules_of_use': 'Global'}, {'Alt_logical_source': 'Global'}, {'spase_DatasetResourceID': 'Global'}, {'CDAWEB_PARENTS': 'Global'}, {'FIELDNAM': 'Variable'}, {'VALIDMIN': 'Variable'}, {'VALIDMAX': 'Variable'}, {'SCALEMIN': 'Variable'}, {'SCALEMAX': 'Variable'}, {'UNITS': 'Variable'}, {'FORMAT': 'Variable'}, {'MONOTON': 'Variable'}, {'VAR_TYPE': 'Variable'}, {'DICT_KEY': 'Variable'}, {'FILLVAL': 'Variable'}, {'LABL_PTR_1': 'Variable'}, {'LABL_PTR_2': 'Variable'}, {'UNIT_PTR': 'Variable'}, {'FORM_PTR': 'Variable'}, {'DEPEND_0': 'Variable'}, {'DEPEND_1': 'Variable'}, {'CATDESC': 'Variable'}, {'LABLAXIS': 'Variable'}, {'AVG_TYPE': 'Variable'}, {'DISPLAY_TYPE': 'Variable'}, {'VAR_NOTES': 'Variable'}, {'SCALETYP': 'Variable'}, {'SCAL_PTR': 'Variable'}, {'DIM_SIZES': 'Variable'}], Copyright='\\nCommon Data Format (CDF)\\nhttps://cdf.gsfc.nasa.gov\\nSpace Physics Data Facility\\nNASA/Goddard Space Flight Center\\nGreenbelt, Maryland 20771 USA\\n', Checksum=False, Num_rdim=0, rDim_sizes=[], Compressed=False, LeapSecondUpdate=None)\n"
     ]
    }
   ],
   "source": [
    "cdf = cdflib.CDF(uploaded_file.name)\n",
    "info = cdf.cdf_info()\n",
    "print(info)"
   ]
  },
  {
   "cell_type": "code",
   "execution_count": null,
   "metadata": {},
   "outputs": [],
   "source": []
  },
  {
   "cell_type": "markdown",
   "metadata": {},
   "source": [
    "## Additional Documentation\n",
    "\n",
    "..."
   ]
  },
  {
   "cell_type": "code",
   "execution_count": null,
   "metadata": {},
   "outputs": [],
   "source": []
  }
 ],
 "metadata": {
  "kernelspec": {
   "display_name": "Python 3 (ipykernel)",
   "language": "python",
   "name": "python3"
  },
  "language_info": {
   "codemirror_mode": {
    "name": "ipython",
    "version": 3
   },
   "file_extension": ".py",
   "mimetype": "text/x-python",
   "name": "python",
   "nbconvert_exporter": "python",
   "pygments_lexer": "ipython3",
   "version": "3.10.5"
  }
 },
 "nbformat": 4,
 "nbformat_minor": 4
}
