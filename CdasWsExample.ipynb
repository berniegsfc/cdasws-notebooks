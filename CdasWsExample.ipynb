{
 "cells": [
  {
   "cell_type": "markdown",
   "metadata": {},
   "source": [
    "# cdasws Example Jupyter Notebook\n",
    "This [Jupyter notebook](https://jupyter.org) demonstrates using the [cdasws](https://pypi.org/project/cdasws) Python package to access data from [cdaweb](https://cdaweb.gsfc.nasa.gov) with the data returned in the [SpacePy data model](https://spacepy.github.io/datamodel.html).  Alternatively, it is possible to have the data returned in an [xarray.Dataset](https://docs.xarray.dev/en/stable/generated/xarray.Dataset.html).  For xarray.Dataset results, see this [notebook](CdasWsExampleXarray.html) ([ipynb file](CdasWsExampleXarray.ipynb)).  This notebook contains the following sections:\n",
    "\n",
    "1. [Prerequisites](#Prerequisites)\n",
    "2. [Setup](#Setup)\n",
    "3. [Get Datasets](#Get-Datasets)\n",
    "4. [Get Dataset Variables](#Get-Dataset-Variables)\n",
    "5. [Get Data](#Get-Data)\n",
    "6. [Display Metadata](#Display-Metadata)\n",
    "7. [Plot Values](#Plot-Values)\n",
    "8. [Binning Example](#Binning-Example)\n",
    "9. [DOI Example](#DOI-Example)\n",
    "10. [Additional Documentation](#Additional-Documentation)"
   ]
  },
  {
   "cell_type": "markdown",
   "metadata": {},
   "source": [
    "## Prerequisites\n",
    "Install the prerequisite software the [Python Package Index](https://pypi.org/).\n",
    "\n",
    "1. pip install spacepy\n",
    "1. pip install cdasws"
   ]
  },
  {
   "cell_type": "markdown",
   "metadata": {},
   "source": [
    "## Setup\n",
    "Execute some preliminary code that is necessary before the code that follows."
   ]
  },
  {
   "cell_type": "code",
   "execution_count": 24,
   "metadata": {},
   "outputs": [],
   "source": [
    "from cdasws import CdasWs\n",
    "import matplotlib.pyplot as plt\n",
    "cdas = CdasWs()"
   ]
  },
  {
   "cell_type": "markdown",
   "metadata": {},
   "source": [
    "## Get Datasets\n",
    "The following code demontrates how to get a list of datasets."
   ]
  },
  {
   "cell_type": "code",
   "execution_count": 25,
   "metadata": {},
   "outputs": [
    {
     "name": "stdout",
     "output_type": "stream",
     "text": [
      "AC_AT_DEF ACE Hourly RTN, GSE and J2000 GCI Attitude direction cosines - E. C. Stone (California Institute of Technology)\n",
      "AC_H0_MFI H0 - ACE Magnetic Field 16-Second Level 2 Data - N. Ness (Bartol Research Institute)\n",
      "AC_H1_MFI H1 - ACE Magnetic Field 4-Minute Level 2 Data - N. Ness (Bartol Research Institute)\n",
      "AC_H2_MFI H2 - ACE Magnetic Field 1-Hour Level 2 Data - N. Ness (Bartol Research Institute)\n",
      "AC_H3_MFI H3 - ACE Magnetic Field 1-Second Level 2 Data - N. Ness (Bartol Research Institute)\n",
      "AC_K0_GIFWALK Links to ACE KP pre-generated survey and other plots - Polar-Wind-Geotail Ground System (NASA GSFC)\n",
      "...\n"
     ]
    }
   ],
   "source": [
    "datasets = cdas.get_datasets(observatoryGroup='ACE',\n",
    "                             instrumentType='Magnetic Fields (space)')\n",
    "for index, dataset in enumerate(datasets):\n",
    "    print(dataset['Id'], dataset['Label'])\n",
    "    if index == 5:\n",
    "        print('...')\n",
    "        break"
   ]
  },
  {
   "cell_type": "markdown",
   "metadata": {},
   "source": [
    "## Get Dataset Variables\n",
    "The following code demonstrates how to get a dataset's variables."
   ]
  },
  {
   "cell_type": "code",
   "execution_count": 26,
   "metadata": {},
   "outputs": [
    {
     "name": "stdout",
     "output_type": "stream",
     "text": [
      "Magnitude B-field magnitude\n",
      "BGSEc Magnetic Field Vector in GSE Cartesian coordinates (4 min)\n",
      "BGSM Magnetic field vector in GSM coordinates (4 min)\n",
      "SC_pos_GSE ACE s/c position, 3 comp. in GSE coord.\n",
      "SC_pos_GSM ACE s/c position, 3 comp. in GSM coord.\n"
     ]
    }
   ],
   "source": [
    "variables = cdas.get_variables('AC_H1_MFI')\n",
    "for variable in variables:\n",
    "    print(variable['Name'], variable['LongDescription'])"
   ]
  },
  {
   "cell_type": "markdown",
   "metadata": {},
   "source": [
    "## Get Data\n",
    "The following code demonstrates how to access magnetic field measurements\n",
    "from the ACE [AC_H1_MFI dataset](https://cdaweb.gsfc.nasa.gov/misc/NotesA.html#AC_H1_MFI)."
   ]
  },
  {
   "cell_type": "code",
   "execution_count": 27,
   "metadata": {},
   "outputs": [
    {
     "name": "stdout",
     "output_type": "stream",
     "text": [
      "{'Epoch': VarCopy([datetime.datetime(2009, 6, 1, 0, 0),\n",
      "         datetime.datetime(2009, 6, 1, 0, 4),\n",
      "         datetime.datetime(2009, 6, 1, 0, 8)], dtype=object), 'Magnitude': VarCopy([3.495, 3.474, 3.477], dtype=float32), 'BGSEc': VarCopy([[-0.106,  2.521, -2.391],\n",
      "         [-0.412,  2.402, -2.449],\n",
      "         [-0.094,  2.309, -2.587]], dtype=float32), 'cartesian': VarCopy(['x_component', 'y_component', 'z_component'], dtype='<U11'), 'metavar0': VarCopy(['Bx GSE', 'By GSE', 'Bz GSE'], dtype='<U6')}\n"
     ]
    }
   ],
   "source": [
    "data = cdas.get_data('AC_H1_MFI', ['Magnitude', 'BGSEc'],\n",
    "                     '2009-06-01T00:00:00Z', '2009-06-01T00:10:00Z')[1]\n",
    "print(data)"
   ]
  },
  {
   "cell_type": "markdown",
   "metadata": {},
   "source": [
    "## Display Metadata\n",
    "\n",
    "The following code displays metadata for the Magnitude variable."
   ]
  },
  {
   "cell_type": "code",
   "execution_count": 28,
   "metadata": {},
   "outputs": [
    {
     "name": "stdout",
     "output_type": "stream",
     "text": [
      "{'FIELDNAM': 'B-field magnitude', 'VALIDMIN': 0.0, 'VALIDMAX': 500.0, 'SCALEMIN': 0.0, 'SCALEMAX': 10.0, 'UNITS': 'nT', 'FORMAT': 'F8.3', 'VAR_TYPE': 'data', 'DICT_KEY': 'magnetic_field>magnitude', 'FILLVAL': -1e+31, 'DEPEND_0': 'Epoch', 'CATDESC': 'B-field magnitude', 'LABLAXIS': '<|B|>', 'DISPLAY_TYPE': 'time_series', 'DIM_SIZES': 0}\n"
     ]
    }
   ],
   "source": [
    "print(data['Magnitude'].attrs)"
   ]
  },
  {
   "cell_type": "markdown",
   "metadata": {},
   "source": [
    "## Plot Values\n",
    "\n",
    "The following code plots the Magnitude variable's values using the label values from the metadata."
   ]
  },
  {
   "cell_type": "code",
   "execution_count": 29,
   "metadata": {},
   "outputs": [
    {
     "data": {
      "image/png": "[encoded data removed]",
      "text/plain": [
       "<Figure size 432x288 with 1 Axes>"
      ]
     },
     "metadata": {
      "needs_background": "light"
     },
     "output_type": "display_data"
    }
   ],
   "source": [
    "fig = data.plot(['Magnitude'])\n",
    "fig.show()"
   ]
  },
  {
   "cell_type": "markdown",
   "metadata": {},
   "source": [
    "## Binning Example\n",
    "For analysis, it is often useful to place two datasets that have different timestamps on the same time grid (with optional spike removal).  The following demonstrates doing this with cdasws and the datasets [AC_H0_SWE](/misc/NotesA.html#AC_H0_SWE) and [AC_H2_SWE](/misc/NotesA.html#AC_H2_SWE).  For more information on binning, see [binning in cdaweb](/CDAWeb_Binning_readme.html)."
   ]
  },
  {
   "cell_type": "markdown",
   "metadata": {},
   "source": [
    "### Display Original Data\n",
    "The following code gets and displays the original, unbinned data."
   ]
  },
  {
   "cell_type": "code",
   "execution_count": 30,
   "metadata": {},
   "outputs": [
    {
     "name": "stdout",
     "output_type": "stream",
     "text": [
      "{'Epoch': VarCopy([datetime.datetime(1998, 2, 4, 0, 0, 31),\n",
      "         datetime.datetime(1998, 2, 4, 0, 1, 35),\n",
      "         datetime.datetime(1998, 2, 4, 0, 2, 39), ...,\n",
      "         datetime.datetime(1998, 2, 5, 23, 57, 19),\n",
      "         datetime.datetime(1998, 2, 5, 23, 58, 23),\n",
      "         datetime.datetime(1998, 2, 5, 23, 59, 27)], dtype=object), 'Np': VarCopy([-1.00000e+31, -1.00000e+31, -1.00000e+31, ...,  1.44819e+01,\n",
      "          1.49483e+01,  1.35783e+01], dtype=float32)}\n",
      "{'Epoch': VarCopy([datetime.datetime(1998, 2, 4, 0, 0),\n",
      "         datetime.datetime(1998, 2, 4, 1, 0),\n",
      "         datetime.datetime(1998, 2, 4, 2, 0),\n",
      "         datetime.datetime(1998, 2, 4, 3, 0),\n",
      "         datetime.datetime(1998, 2, 4, 4, 0),\n",
      "         datetime.datetime(1998, 2, 4, 5, 0),\n",
      "         datetime.datetime(1998, 2, 4, 6, 0),\n",
      "         datetime.datetime(1998, 2, 4, 7, 0),\n",
      "         datetime.datetime(1998, 2, 4, 8, 0),\n",
      "         datetime.datetime(1998, 2, 4, 9, 0),\n",
      "         datetime.datetime(1998, 2, 4, 10, 0),\n",
      "         datetime.datetime(1998, 2, 4, 11, 0),\n",
      "         datetime.datetime(1998, 2, 4, 12, 0),\n",
      "         datetime.datetime(1998, 2, 4, 13, 0),\n",
      "         datetime.datetime(1998, 2, 4, 14, 0),\n",
      "         datetime.datetime(1998, 2, 4, 15, 0),\n",
      "         datetime.datetime(1998, 2, 4, 16, 0),\n",
      "         datetime.datetime(1998, 2, 4, 17, 0),\n",
      "         datetime.datetime(1998, 2, 4, 18, 0),\n",
      "         datetime.datetime(1998, 2, 4, 19, 0),\n",
      "         datetime.datetime(1998, 2, 4, 20, 0),\n",
      "         datetime.datetime(1998, 2, 4, 21, 0),\n",
      "         datetime.datetime(1998, 2, 4, 22, 0),\n",
      "         datetime.datetime(1998, 2, 4, 23, 0),\n",
      "         datetime.datetime(1998, 2, 5, 0, 0),\n",
      "         datetime.datetime(1998, 2, 5, 1, 0),\n",
      "         datetime.datetime(1998, 2, 5, 2, 0),\n",
      "         datetime.datetime(1998, 2, 5, 3, 0),\n",
      "         datetime.datetime(1998, 2, 5, 4, 0),\n",
      "         datetime.datetime(1998, 2, 5, 5, 0),\n",
      "         datetime.datetime(1998, 2, 5, 6, 0),\n",
      "         datetime.datetime(1998, 2, 5, 7, 0),\n",
      "         datetime.datetime(1998, 2, 5, 8, 0),\n",
      "         datetime.datetime(1998, 2, 5, 9, 0),\n",
      "         datetime.datetime(1998, 2, 5, 10, 0),\n",
      "         datetime.datetime(1998, 2, 5, 11, 0),\n",
      "         datetime.datetime(1998, 2, 5, 12, 0),\n",
      "         datetime.datetime(1998, 2, 5, 13, 0),\n",
      "         datetime.datetime(1998, 2, 5, 14, 0),\n",
      "         datetime.datetime(1998, 2, 5, 15, 0),\n",
      "         datetime.datetime(1998, 2, 5, 16, 0),\n",
      "         datetime.datetime(1998, 2, 5, 17, 0),\n",
      "         datetime.datetime(1998, 2, 5, 18, 0),\n",
      "         datetime.datetime(1998, 2, 5, 19, 0),\n",
      "         datetime.datetime(1998, 2, 5, 20, 0),\n",
      "         datetime.datetime(1998, 2, 5, 21, 0),\n",
      "         datetime.datetime(1998, 2, 5, 22, 0),\n",
      "         datetime.datetime(1998, 2, 5, 23, 0),\n",
      "         datetime.datetime(1998, 2, 6, 0, 0)], dtype=object), 'Np': VarCopy([-1.00000e+31, -1.00000e+31, -1.00000e+31, -1.00000e+31,\n",
      "         -1.00000e+31, -1.00000e+31, -1.00000e+31, -1.00000e+31,\n",
      "         -1.00000e+31, -1.00000e+31, -1.00000e+31, -1.00000e+31,\n",
      "         -1.00000e+31, -1.00000e+31, -1.00000e+31, -1.00000e+31,\n",
      "         -1.00000e+31, -1.00000e+31, -1.00000e+31, -1.00000e+31,\n",
      "         -1.00000e+31, -1.00000e+31, -1.00000e+31,  1.50185e+01,\n",
      "          1.66551e+01,  2.06010e+01,  1.86789e+01,  1.84808e+01,\n",
      "          2.83151e+01,  2.29591e+01,  2.67127e+01,  2.87503e+01,\n",
      "          3.11556e+01,  2.98451e+01,  2.96215e+01,  3.19601e+01,\n",
      "          2.88363e+01,  2.34173e+01,  2.58818e+01,  2.50207e+01,\n",
      "          2.76192e+01,  2.56742e+01,  2.56151e+01,  2.00080e+01,\n",
      "          1.49786e+01,  1.20008e+01,  1.34287e+01,  1.04862e+01,\n",
      "          1.06203e+01], dtype=float32)}\n"
     ]
    }
   ],
   "source": [
    "    dataset0 = 'AC_H0_SWE'\n",
    "    parameters = ['Np']\n",
    "    start = '1998-02-04T00:00:00Z'\n",
    "    stop = '1998-02-06T00:00:00Z'\n",
    "    status, data0 = cdas.get_data(dataset0, parameters, start, stop)\n",
    "    print(data0)\n",
    "    dataset1 = 'AC_H2_SWE'\n",
    "    status, data1 = cdas.get_data(dataset1, parameters, start, stop)\n",
    "    print(data1)"
   ]
  },
  {
   "cell_type": "markdown",
   "metadata": {},
   "source": [
    "### Bin Data\n",
    "The following code gets data after it has been binned with 60 second time intervals and any missing values created by interpolation."
   ]
  },
  {
   "cell_type": "code",
   "execution_count": 31,
   "metadata": {},
   "outputs": [
    {
     "name": "stdout",
     "output_type": "stream",
     "text": [
      "{'Epoch_bin': VarCopy([datetime.datetime(1998, 2, 4, 0, 0, 30),\n",
      "         datetime.datetime(1998, 2, 4, 0, 1, 30),\n",
      "         datetime.datetime(1998, 2, 4, 0, 2, 30), ...,\n",
      "         datetime.datetime(1998, 2, 5, 23, 57, 30),\n",
      "         datetime.datetime(1998, 2, 5, 23, 58, 30),\n",
      "         datetime.datetime(1998, 2, 5, 23, 59, 30)], dtype=object), 'Epoch': VarCopy([datetime.datetime(1998, 2, 4, 0, 0, 31),\n",
      "         datetime.datetime(1998, 2, 4, 0, 1, 35),\n",
      "         datetime.datetime(1998, 2, 4, 0, 2, 39), ...,\n",
      "         datetime.datetime(1998, 2, 5, 23, 57, 19),\n",
      "         datetime.datetime(1998, 2, 5, 23, 58, 23),\n",
      "         datetime.datetime(1998, 2, 5, 23, 59, 27)], dtype=object), 'Np': VarCopy([16.3343, 16.3343, 16.3343, ..., 14.4819, 14.9483, 13.5783],\n",
      "        dtype=float32), 'NP_NBIN': VarCopy([-0., -0., -0., ...,  1.,  1.,  1.], dtype=float32), 'NP_BIN_DELTA_MINUS_VAR': VarCopy([-1.e+31, -1.e+31, -1.e+31, ..., -1.e+31, -1.e+31, -1.e+31],\n",
      "        dtype=float32), 'NP_BIN_DELTA_PLUS_VAR': VarCopy([-1.e+31, -1.e+31, -1.e+31, ..., -1.e+31, -1.e+31, -1.e+31],\n",
      "        dtype=float32)}\n",
      "{'Epoch_bin': VarCopy([datetime.datetime(1998, 2, 4, 0, 0, 30),\n",
      "         datetime.datetime(1998, 2, 4, 0, 1, 30),\n",
      "         datetime.datetime(1998, 2, 4, 0, 2, 30), ...,\n",
      "         datetime.datetime(1998, 2, 5, 23, 57, 30),\n",
      "         datetime.datetime(1998, 2, 5, 23, 58, 30),\n",
      "         datetime.datetime(1998, 2, 5, 23, 59, 30)], dtype=object), 'Epoch': VarCopy([datetime.datetime(1998, 2, 4, 0, 0),\n",
      "         datetime.datetime(1998, 2, 4, 1, 0),\n",
      "         datetime.datetime(1998, 2, 4, 2, 0),\n",
      "         datetime.datetime(1998, 2, 4, 3, 0),\n",
      "         datetime.datetime(1998, 2, 4, 4, 0),\n",
      "         datetime.datetime(1998, 2, 4, 5, 0),\n",
      "         datetime.datetime(1998, 2, 4, 6, 0),\n",
      "         datetime.datetime(1998, 2, 4, 7, 0),\n",
      "         datetime.datetime(1998, 2, 4, 8, 0),\n",
      "         datetime.datetime(1998, 2, 4, 9, 0),\n",
      "         datetime.datetime(1998, 2, 4, 10, 0),\n",
      "         datetime.datetime(1998, 2, 4, 11, 0),\n",
      "         datetime.datetime(1998, 2, 4, 12, 0),\n",
      "         datetime.datetime(1998, 2, 4, 13, 0),\n",
      "         datetime.datetime(1998, 2, 4, 14, 0),\n",
      "         datetime.datetime(1998, 2, 4, 15, 0),\n",
      "         datetime.datetime(1998, 2, 4, 16, 0),\n",
      "         datetime.datetime(1998, 2, 4, 17, 0),\n",
      "         datetime.datetime(1998, 2, 4, 18, 0),\n",
      "         datetime.datetime(1998, 2, 4, 19, 0),\n",
      "         datetime.datetime(1998, 2, 4, 20, 0),\n",
      "         datetime.datetime(1998, 2, 4, 21, 0),\n",
      "         datetime.datetime(1998, 2, 4, 22, 0),\n",
      "         datetime.datetime(1998, 2, 4, 23, 0),\n",
      "         datetime.datetime(1998, 2, 5, 0, 0),\n",
      "         datetime.datetime(1998, 2, 5, 1, 0),\n",
      "         datetime.datetime(1998, 2, 5, 2, 0),\n",
      "         datetime.datetime(1998, 2, 5, 3, 0),\n",
      "         datetime.datetime(1998, 2, 5, 4, 0),\n",
      "         datetime.datetime(1998, 2, 5, 5, 0),\n",
      "         datetime.datetime(1998, 2, 5, 6, 0),\n",
      "         datetime.datetime(1998, 2, 5, 7, 0),\n",
      "         datetime.datetime(1998, 2, 5, 8, 0),\n",
      "         datetime.datetime(1998, 2, 5, 9, 0),\n",
      "         datetime.datetime(1998, 2, 5, 10, 0),\n",
      "         datetime.datetime(1998, 2, 5, 11, 0),\n",
      "         datetime.datetime(1998, 2, 5, 12, 0),\n",
      "         datetime.datetime(1998, 2, 5, 13, 0),\n",
      "         datetime.datetime(1998, 2, 5, 14, 0),\n",
      "         datetime.datetime(1998, 2, 5, 15, 0),\n",
      "         datetime.datetime(1998, 2, 5, 16, 0),\n",
      "         datetime.datetime(1998, 2, 5, 17, 0),\n",
      "         datetime.datetime(1998, 2, 5, 18, 0),\n",
      "         datetime.datetime(1998, 2, 5, 19, 0),\n",
      "         datetime.datetime(1998, 2, 5, 20, 0),\n",
      "         datetime.datetime(1998, 2, 5, 21, 0),\n",
      "         datetime.datetime(1998, 2, 5, 22, 0),\n",
      "         datetime.datetime(1998, 2, 5, 23, 0),\n",
      "         datetime.datetime(1998, 2, 6, 0, 0)], dtype=object), 'Np': VarCopy([16.6551, 16.6551, 16.6551, ..., 10.4862, 10.4862, 10.4862],\n",
      "        dtype=float32), 'NP_NBIN': VarCopy([-0., -0., -0., ..., -0., -0., -0.], dtype=float32), 'NP_BIN_DELTA_MINUS_VAR': VarCopy([-1.e+31, -1.e+31, -1.e+31, ..., -1.e+31, -1.e+31, -1.e+31],\n",
      "        dtype=float32), 'NP_BIN_DELTA_PLUS_VAR': VarCopy([-1.e+31, -1.e+31, -1.e+31, ..., -1.e+31, -1.e+31, -1.e+31],\n",
      "        dtype=float32)}\n"
     ]
    }
   ],
   "source": [
    "    binData = {\n",
    "        'interval': 60.0,\n",
    "        'interpolateMissingValues': True,\n",
    "        'sigmaMultiplier': 4\n",
    "    }\n",
    "    status, data0 = cdas.get_data(dataset0, parameters, start, stop, binData=binData)\n",
    "    print(data0)\n",
    "    status, data1 = cdas.get_data(dataset1, parameters, start, stop, binData=binData)\n",
    "    print(data1)"
   ]
  },
  {
   "cell_type": "markdown",
   "metadata": {},
   "source": [
    "### Compare Data\n",
    "The following code compares the binned data from the two datasets by plotting the values."
   ]
  },
  {
   "cell_type": "code",
   "execution_count": 32,
   "metadata": {},
   "outputs": [
    {
     "data": {
      "image/png": "[encoded data removed]",
      "text/plain": [
       "<Figure size 432x288 with 1 Axes>"
      ]
     },
     "metadata": {
      "needs_background": "light"
     },
     "output_type": "display_data"
    }
   ],
   "source": [
    "plt.plot(data0['Epoch_bin'], data0['Np'])\n",
    "plt.plot(data1['Epoch_bin'], data1['Np'])\n",
    "plt.xlabel(data0['Epoch'].attrs['LABLAXIS'])\n",
    "plt.ylabel(data0['Np'].attrs['LABLAXIS'] + ' ' +\n",
    "           data0['Np'].attrs['UNITS'])\n",
    "plt.legend([dataset0, dataset1])\n",
    "plt.show()"
   ]
  },
  {
   "cell_type": "markdown",
   "metadata": {},
   "source": [
    "## DOI Example\n",
    "The following code gets data from a dataset using the dataset's [digital object identifier](https://en.wikipedia.org/wiki/Digital_object_identifier) and displays the dataset's values. "
   ]
  },
  {
   "cell_type": "code",
   "execution_count": 33,
   "metadata": {},
   "outputs": [
    {
     "name": "stdout",
     "output_type": "stream",
     "text": [
      "['MFI>3-axis fluxgate magnetometer averages']\n",
      "{'Epoch': VarCopy([datetime.datetime(1987, 9, 24, 0, 30, 1, 567000),\n",
      "         datetime.datetime(1987, 9, 24, 0, 30, 5, 567000),\n",
      "         datetime.datetime(1987, 9, 24, 0, 30, 9, 567000), ...,\n",
      "         datetime.datetime(1987, 9, 24, 23, 59, 51, 368000),\n",
      "         datetime.datetime(1987, 9, 24, 23, 59, 55, 369000),\n",
      "         datetime.datetime(1987, 9, 24, 23, 59, 59, 369000)], dtype=object), 'BT': VarCopy([89.8591, 89.7978, 89.7269, ..., 18.5909, 18.6276, 18.5359],\n",
      "        dtype=float32)}\n"
     ]
    }
   ],
   "source": [
    "status, data = cdas.get_data('10.21978/P8PG8V', ['BT'], '1987-09-24T00:00:00Z', '1987-09-25T00:00:00Z')\n",
    "print(data.attrs['Descriptor'])\n",
    "print(data)"
   ]
  },
  {
   "cell_type": "markdown",
   "metadata": {},
   "source": [
    "## Additional Documentation\n",
    "\n",
    "View the [cdasws API](https://cdaweb.gsfc.nasa.gov/WebServices/REST/py/cdasws/) for additional functions.  Additional [notebook examples](https://cdaweb.gsfc.nasa.gov/WebServices/REST/#Jupyter_Notebook_Examples) are also available."
   ]
  },
  {
   "cell_type": "code",
   "execution_count": null,
   "metadata": {},
   "outputs": [],
   "source": []
  }
 ],
 "metadata": {
  "kernelspec": {
   "display_name": "Python 3",
   "language": "python",
   "name": "python3"
  },
  "language_info": {
   "codemirror_mode": {
    "name": "ipython",
    "version": 3
   },
   "file_extension": ".py",
   "mimetype": "text/x-python",
   "name": "python",
   "nbconvert_exporter": "python",
   "pygments_lexer": "ipython3",
   "version": "3.6.8"
  }
 },
 "nbformat": 4,
 "nbformat_minor": 4
}
