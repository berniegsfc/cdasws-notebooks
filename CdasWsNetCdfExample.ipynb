{
 "cells": [
  {
   "cell_type": "markdown",
   "metadata": {},
   "source": [
    "# cdasws Example Jupyter Notebook\n",
    "This [Jupyter notebook](https://jupyter.org) demonstrates using the [cdasws](https://pypi.org/project/cdasws) Python package to access [NetCDF](https://www.unidata.ucar.edu/software/netcdf/) data from [cdaweb](https://cdaweb.gsfc.nasa.gov) with the data returned in the [xarray.Dataset](https://docs.xarray.dev/en/stable/generated/xarray.Dataset.html).  This notebook contains the following sections:\n",
    "\n",
    "1. [Prerequisites](#Prerequisites)\n",
    "2. [Setup](#Setup)\n",
    "3. [Get Observatory Groups](#Get-Observatory-Groups)\n",
    "4. [Get Datasets](#Get-Datasets)\n",
    "5. [Get Dataset Variables](#Get-Dataset-Variables)\n",
    "6. [Get Data](#Get-Data)\n",
    "7. [Display Metadata](#Display-Metadata)\n",
    "8. [Plot Values](#Plot-Values)\n",
    "9. [Additional Documentation](#Additional-Documentation)\n",
    "\n",
    "**Notes**: \n",
    "1. This example only depends upon pure Python modules and does not require modules that depend upon non-Python code (such as spacepy and pycdf).\n",
    "2. The use of the dataRepresentation keyword parameter below is only necessary if you also have [spacepy](https://pypi.org/project/spacepy) installed.\n",
    "3. It also is possible to have the data returned in a [SpasePy data model](https://spacepy.github.io/datamodel.html) instead of an xarrayDataset."
   ]
  },
  {
   "cell_type": "markdown",
   "metadata": {},
   "source": [
    "## Prerequisites\n",
    "Install the prerequisite software from the [Python Package Index](https://pypi.org/) if it is not already installed."
   ]
  },
  {
   "cell_type": "code",
   "execution_count": 12,
   "metadata": {},
   "outputs": [],
   "source": [
    "#%pip install xarray\n",
    "#%pip install cdflib\n",
    "#%pip install cdasws"
   ]
  },
  {
   "cell_type": "markdown",
   "metadata": {},
   "source": [
    "## Setup\n",
    "Execute some preliminary code that is necessary before the code that follows."
   ]
  },
  {
   "cell_type": "code",
   "execution_count": 13,
   "metadata": {},
   "outputs": [],
   "source": [
    "from cdasws import CdasWs\n",
    "from cdasws.datarepresentation import DataRepresentation as dr\n",
    "import matplotlib.pyplot as plt\n",
    "cdas = CdasWs()"
   ]
  },
  {
   "cell_type": "markdown",
   "metadata": {},
   "source": [
    "## Get Observatory Groups\n",
    "The following code demonstrates how to get the available observatory groups."
   ]
  },
  {
   "cell_type": "code",
   "execution_count": 15,
   "metadata": {},
   "outputs": [
    {
     "name": "stdout",
     "output_type": "stream",
     "text": [
      "ICON\n"
     ]
    }
   ],
   "source": [
    "obs_groups = cdas.get_observatory_groups()\n",
    "for index, obs_group in enumerate(obs_groups):\n",
    "    obs_group_name = obs_group['Name']\n",
    "    if 'ICON' in obs_group_name:\n",
    "        print(obs_group_name)"
   ]
  },
  {
   "cell_type": "markdown",
   "metadata": {},
   "source": [
    "## Get Datasets\n",
    "The following code demontrates how to get a list of datasets."
   ]
  },
  {
   "cell_type": "code",
   "execution_count": 16,
   "metadata": {},
   "outputs": [
    {
     "name": "stdout",
     "output_type": "stream",
     "text": [
      "ICON_L2-1_MIGHTI-A_LOS-WIND-GREEN Michelson Interferometer for Global High-resolution Thermospheric Imaging (MIGHTI) Sensor A: Line-of-sight Wind Profiles - T. J. Immel (UC Berkeley>SSL)\n",
      "ICON_L2-1_MIGHTI-A_LOS-WIND-RED Michelson Interferometer for Global High-resolution Thermospheric Imaging (MIGHTI) Sensor A: Line-of-sight Wind Profiles - T. J. Immel (UC Berkeley>SSL)\n",
      "ICON_L2-1_MIGHTI-B_LOS-WIND-GREEN Michelson Interferometer for Global High-resolution Thermospheric Imaging (MIGHTI) Sensor B - Line-of-sight Wind Profiles - T. J. Immel (UC Berkeley>SSL)\n",
      "ICON_L2-1_MIGHTI-B_LOS-WIND-RED Michelson Interferometer for Global High-resolution Thermospheric Imaging (MIGHTI) Sensor B - Line-of-sight Wind Profiles - T. J. Immel (UC Berkeley>SSL)\n",
      "ICON_L2-2_MIGHTI_VECTOR-WIND-GREEN MIGHTI - Cardinal Vector Winds - T. J. Immel (UC Berkeley>SSL)\n",
      "ICON_L2-2_MIGHTI_VECTOR-WIND-RED MIGHTI - Cardinal Vector Winds - T. J. Immel (UC Berkeley>SSL)\n",
      "ICON_L2-3_MIGHTI-A_TEMPERATURE ICON MIGHTI-A Level 2.3 Retrieved Temperature File - T. J. Immel (UC Berkeley>SSL)\n",
      "ICON_L2-3_MIGHTI-B_TEMPERATURE ICON MIGHTI-B Level 2.3 Retrieved Temperature File - T. J. Immel (UC Berkeley>SSL)\n",
      "ICON_L2-4_FUV_DAY ICON FUV Daytime: column density ratio of thermospheric atomic oxygen to molecular nitrogen.  - T. J. Immel (UC Berkeley>SSL)\n",
      "ICON_L2-5_FUV_NIGHT FUV Short Wavelength Channel - 135.6 Altitude Profiles (night) - T. J. Immel (UC Berkeley>SSL)\n",
      "ICON_L2-6_EUV ICON EUV derived ionospheric data products - T. J. Immel (UC Berkeley>SSL)\n",
      "ICON_L2-7_IVM-A ICON Ion Velocity Meter (IVM) Thermal Plasma Measurements - T. J. Immel (UC Berkeley>SSL)\n",
      "ICON_L2-7_IVM-B ICON IVM Thermal Plasma Measurements B - T. J. Immel (UC Berkeley>SSL)\n"
     ]
    }
   ],
   "source": [
    "datasets = cdas.get_datasets(observatoryGroup='ICON')\n",
    "for index, dataset in enumerate(datasets):\n",
    "    print(dataset['Id'], dataset['Label'])"
   ]
  },
  {
   "cell_type": "markdown",
   "metadata": {},
   "source": [
    "## Get Dataset Variables\n",
    "The following code demonstrates how to get a dataset's variables."
   ]
  },
  {
   "cell_type": "code",
   "execution_count": 17,
   "metadata": {},
   "outputs": [
    {
     "name": "stdout",
     "output_type": "stream",
     "text": [
      "ICON_L24_1356_Emission Disk short wave emission\n",
      "ICON_L24_Ap Ap used in retreival\n",
      "ICON_L24_Disk_LOS_Zen_Angle Retrieved disk LOS zenith angle\n",
      "ICON_L24_Disk_Latitude Retrieved disk latitude\n",
      "ICON_L24_Disk_Longitude Retrieved disk longitude\n",
      "ICON_L24_Disk_ON2 Retrieved disk column O/N2\n",
      "ICON_L24_Disk_SZA Retrieved disk SZA\n",
      "ICON_L24_Disk_Sigma_ON2 Retrieved disk column O/N2 uncertainty\n",
      "ICON_L24_LBH_Emission Disk long wave emission\n"
     ]
    }
   ],
   "source": [
    "ds_id = 'ICON_L2-4_FUV_DAY'\n",
    "var_names = []\n",
    "variables = cdas.get_variables(ds_id)\n",
    "for variable in variables:\n",
    "    var_name = variable['Name']\n",
    "    var_names.append(var_name)\n",
    "    print(var_name, variable['LongDescription'])"
   ]
  },
  {
   "cell_type": "markdown",
   "metadata": {},
   "source": [
    "## Get Data\n",
    "The following code demonstrates how to get NetCDF data \n",
    "from the [ICON_L2-4_FUV_DAY dataset](https://cdaweb.gsfc.nasa.gov/misc/NotesI.html#ICON_L2-4_FUV_DAY)."
   ]
  },
  {
   "cell_type": "code",
   "execution_count": 18,
   "metadata": {},
   "outputs": [
    {
     "name": "stdout",
     "output_type": "stream",
     "text": [
      "<xarray.Dataset>\n",
      "Dimensions:                      (Epoch_cdf: 24, record0: 6951)\n",
      "Coordinates:\n",
      "  * Epoch_cdf                    (Epoch_cdf) datetime64[ns] 2022-11-24T23:00:...\n",
      "Dimensions without coordinates: record0\n",
      "Data variables:\n",
      "    time_base                    datetime64[ns] 1970-01-01\n",
      "    ICON_L24_1356_Emission       (Epoch_cdf) float32 3.69e+03 ... 3.435e+03\n",
      "    ICON_L24_Ap                  (Epoch_cdf) float32 12.0 12.0 ... 12.0 12.0\n",
      "    ICON_L24_Disk_LOS_Zen_Angle  (Epoch_cdf) float32 119.9 119.9 ... 119.9 119.9\n",
      "    ICON_L24_Disk_Latitude       (Epoch_cdf) float32 -19.67 -19.66 ... -18.34\n",
      "    ICON_L24_Disk_Longitude      (Epoch_cdf) float32 200.5 201.3 ... 217.1 217.8\n",
      "    ICON_L24_Disk_ON2            (Epoch_cdf) float32 0.5691 0.5892 ... 0.5599\n",
      "    ICON_L24_Disk_SZA            (Epoch_cdf) float32 8.413 9.165 ... 25.11 25.87\n",
      "    ICON_L24_Disk_Sigma_ON2      (Epoch_cdf) float32 0.01592 0.0184 ... 0.02127\n",
      "    ICON_L24_LBH_Emission        (Epoch_cdf) float32 1.038e+03 ... 964.8\n",
      "    Epoch                        (record0) int64 1669248003023 ... 1669334389316\n",
      "Attributes:\n",
      "    ACKNOWLEDGEMENT:             This is a data product from the NASA Ionosph...\n",
      "    ADID_ref:                    NASA Contract>NNG12FA45C\n",
      "    CALIBRATION_FILE:             \n",
      "    CONVENTIONS:                 SPDF ISTP/IACG Modified for NetCDF\n",
      "    DATA_LEVEL:                  L2.4\n",
      "    Data_type:                   DP24>Data Product 2.4: FUV Daytime\n",
      "    DESCRIPTION:                 ICON FUV Daytime\n",
      "    Descriptor:                  ICON FUV Daytime\n",
      "    Discipline:                  Space Physics>Ionospheric Science\n",
      "    FILE_DATE:                   2022-11-23T23:59:57 UTC\n",
      "    GENERATED_BY:                ICON FUV L1 > ICON FUV L2v04r000, R. Meier\n",
      "    GENERATION_DATE:             Wed Jan 11 02:35:47 2023\n",
      "    HISTORY:                     Version 003, Frist public release, disk data...\n",
      "    INSTRUMENT:                  FUV\n",
      "    Instrument_type:             Imaging and Remote Sensing (ITM/Earth)\n",
      "    HTTP_LINK:                   http://icon.ssl.berkeley.edu/\n",
      "    LINK_TEXT:                   ICON FUV\n",
      "    LINK_TITLE:                  instrument site\n",
      "    Logical_file_id:             icon_l2-4s_fuv_day_20221124230010_2022112423...\n",
      "    Logical_source:              ICON_L2-4S_FUV_DAY\n",
      "    Logical_source_description:  DERIVED FROM: ICON FUV Daytime: column densi...\n",
      "    Mission_group:               ICON\n",
      "    PARENTS:                     ['ICON_L1_FUV_LWP_2022-11-24_v05r000.NC', 'I...\n",
      "    PI_affiliation:              UC Berkeley>SSL\n",
      "    PI_name:                     T. J. Immel\n",
      "    Project:                     NASA>ICON\n",
      "    RULES_OF_USE:                Public Data for Scientific Use\n",
      "    SOFTWARE_VERSION:            ICON SDC > FUV v04r000\n",
      "    Source_name:                 ICON>Iconospheric Connection Explorer\n",
      "    SPACECRAFT_ID:               NASA>ICON - 493\n",
      "    Text:                        ['CDAWeb interface derived data on Fri Mar 3...\n",
      "    TEXT_SUPPLEMENT:             This describes the data product for ICON FUV...\n",
      "    TIME_RESOLUTION:             12 Sec\n",
      "    TITLE:                       ICON FUV Daytime\n",
      "    NCO:                         netCDF Operators version 4.7.5 (Homepage = h...\n",
      "    NC_KIND:                     netCDF-4\n",
      "    NC_DIMENSIONS_G:             ['Epoch=UNLIMITED', 'Covariance Matrix 2nd D...\n",
      "    NC_STRINGS_G:                Acknowledgement ADID_Ref Calibration_File Co...\n"
     ]
    }
   ],
   "source": [
    "data = cdas.get_data(ds_id, var_names,\n",
    "                     '2022-11-24T23:00:00Z', '2022-11-24T23:05:00Z',\n",
    "                     dataRepresentation = DataRepresentation.XARRAY)[1]\n",
    "print(data)"
   ]
  },
  {
   "cell_type": "markdown",
   "metadata": {},
   "source": [
    "## Display Metadata\n",
    "\n",
    "The following code displays metadata for the ICON_L24_Disk_SZA variable, do"
   ]
  },
  {
   "cell_type": "code",
   "execution_count": 19,
   "metadata": {},
   "outputs": [
    {
     "name": "stdout",
     "output_type": "stream",
     "text": [
      "<xarray.DataArray 'ICON_L24_Disk_SZA' (Epoch_cdf: 24)>\n",
      "array([ 8.413165,  9.165311,  9.919736, 10.674797, 11.431073, 12.187651,\n",
      "       12.945468, 13.703261, 14.462048, 15.220608, 15.980153, 16.739532,\n",
      "       17.499659, 18.259481, 19.019903, 19.780228, 20.540913, 21.30163 ,\n",
      "       22.062748, 22.823668, 23.585054, 24.345064, 25.106302, 25.867178],\n",
      "      dtype=float32)\n",
      "Coordinates:\n",
      "  * Epoch_cdf  (Epoch_cdf) datetime64[ns] 2022-11-24T23:00:10.767000 ... 2022...\n",
      "Attributes:\n",
      "    FIELDNAM:         Retrieved disk SZA\n",
      "    NC_DIMENSIONS_V:  Epoch\n",
      "    NC_DEFLATE:       [6]\n",
      "    NC_SHUFFLE:       true\n",
      "    NC_STORAGE:       chunked\n",
      "    NC_CHUNKSIZES:    [7013]\n",
      "    CATDESC:          Retrieved disk SZA\n",
      "    DEPEND_0:         Epoch_cdf\n",
      "    DISPLAY_TYPE:     time_series\n",
      "    FILLVAL:          [-999.]\n",
      "    UNITS:            Degrees\n",
      "    VALIDMAX:         [180.]\n",
      "    VALIDMIN:         [0.]\n",
      "    VAR_NOTES:        Solar zenith angle corresponding to disk retrieval\n",
      "    VAR_TYPE:         data\n",
      "    NC_STRINGS_V:     CatDesc Depend_0 Display_Type FieldNam Long_Name Units ...\n",
      "    DIM_SIZES:        [0]\n",
      "    standard_name:    Retrieved disk SZA\n",
      "    units:            Degrees\n"
     ]
    }
   ],
   "source": [
    "print(data.ICON_L24_Disk_SZA)"
   ]
  },
  {
   "cell_type": "markdown",
   "metadata": {},
   "source": [
    "## Plot Values\n",
    "\n",
    "The following code plots the ICON_L24_Disk_SZA variable's values using the label values from the metadata."
   ]
  },
  {
   "cell_type": "code",
   "execution_count": 20,
   "metadata": {},
   "outputs": [
    {
     "data": {
      "text/plain": [
       "[<matplotlib.lines.Line2D at 0x7f3052f62208>]"
      ]
     },
     "execution_count": 20,
     "metadata": {},
     "output_type": "execute_result"
    },
    {
     "data": {
      "image/png": "[encoded data removed]",
      "text/plain": [
       "<Figure size 432x288 with 1 Axes>"
      ]
     },
     "metadata": {
      "needs_background": "light"
     },
     "output_type": "display_data"
    }
   ],
   "source": [
    "data['ICON_L24_Disk_SZA'].plot()"
   ]
  },
  {
   "cell_type": "markdown",
   "metadata": {},
   "source": [
    "## Additional Documentation\n",
    "\n",
    "View the [cdasws API](https://cdaweb.gsfc.nasa.gov/WebServices/REST/py/cdasws/) for additional functions.  Additional [notebook examples](https://cdaweb.gsfc.nasa.gov/WebServices/REST/#Jupyter_Notebook_Examples) are also available."
   ]
  },
  {
   "cell_type": "code",
   "execution_count": null,
   "metadata": {},
   "outputs": [],
   "source": []
  }
 ],
 "metadata": {
  "kernelspec": {
   "display_name": "Python 3",
   "language": "python",
   "name": "python3"
  },
  "language_info": {
   "codemirror_mode": {
    "name": "ipython",
    "version": 3
   },
   "file_extension": ".py",
   "mimetype": "text/x-python",
   "name": "python",
   "nbconvert_exporter": "python",
   "pygments_lexer": "ipython3",
   "version": "3.6.12"
  }
 },
 "nbformat": 4,
 "nbformat_minor": 4
}
