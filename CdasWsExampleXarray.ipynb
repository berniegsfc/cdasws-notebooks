{
 "cells": [
  {
   "cell_type": "markdown",
   "metadata": {},
   "source": [
    "## cdasws Example Jupyter Notebook\n",
    "This [notebook](https://jupyter.org) demonstrates using the [cdasws](https://pypi.org/project/cdasws) to access data from [cdaweb](https://cdaweb.gsfc.nasa.gov) with the data returned in the [xarray.Dataset](https://docs.xarray.dev/en/stable/generated/xarray.Dataset.html).  Alternatively, it is possible to have the data returned in an  [SpasePy data model](https://spacepy.github.io/datamodel.html).  For SpasePy data model results, see this [notebook](CdasWsExample.html) ([ipynb file](CdasWsExample.ipynb)).\n",
    "\n",
    "**Notes**: \n",
    "1. This example only depends upon pure Python modules and does not require modules that depend upon non-Python code (such as spacepy and pycdf).\n",
    "2. The use of the dataRepresentation keyword parameter below is only necessary if you also have [spacepy](https://pypi.org/project/spacepy) installed."
   ]
  },
  {
   "cell_type": "markdown",
   "metadata": {},
   "source": [
    "### Prerequisites\n",
    "Install the following prerequisite modules if they are not already installed."
   ]
  },
  {
   "cell_type": "code",
   "execution_count": 19,
   "metadata": {},
   "outputs": [],
   "source": [
    "#%pip install xarray\n",
    "#%pip install cdflib\n",
    "#%pip install cdasws"
   ]
  },
  {
   "cell_type": "markdown",
   "metadata": {},
   "source": [
    "### Setup"
   ]
  },
  {
   "cell_type": "code",
   "execution_count": 1,
   "metadata": {},
   "outputs": [],
   "source": [
    "from cdasws import CdasWs\n",
    "from cdasws.datarepresentation import DataRepresentation\n",
    "import matplotlib.pyplot as plt\n",
    "cdas = CdasWs()"
   ]
  },
  {
   "cell_type": "markdown",
   "metadata": {},
   "source": [
    "### Get Observatory Groups\n",
    "The following code demonstrates how to get the available observatory groups."
   ]
  },
  {
   "cell_type": "code",
   "execution_count": 3,
   "metadata": {},
   "outputs": [
    {
     "name": "stdout",
     "output_type": "stream",
     "text": [
      "ACE\n",
      "AMPTE\n",
      "ARTEMIS\n",
      "Alouette\n",
      "Apollo\n",
      "Arase (ERG)\n"
     ]
    }
   ],
   "source": [
    "obs_groups = cdas.get_observatory_groups()\n",
    "for index, obs_group in enumerate(obs_groups):\n",
    "    print(obs_group['Name'])\n",
    "    if index == 5:\n",
    "        break"
   ]
  },
  {
   "cell_type": "markdown",
   "metadata": {},
   "source": [
    "### Get Intrument Types\n",
    "The following code demonstrates how to get the available instrument types."
   ]
  },
  {
   "cell_type": "code",
   "execution_count": 5,
   "metadata": {},
   "outputs": [
    {
     "name": "stdout",
     "output_type": "stream",
     "text": [
      "Activity Indices\n",
      "Electric Fields (space)\n",
      "Electron Precipitation Bremsstrahlung\n",
      "Energetic Particle Detector\n",
      "Engineering\n",
      "Ephemeris/Attitude/Ancillary\n"
     ]
    }
   ],
   "source": [
    "instr_types = cdas.get_instrument_types()\n",
    "for index, instr_type in enumerate(instr_types):\n",
    "    print(instr_type['Name'])\n",
    "    if index == 5:\n",
    "        break"
   ]
  },
  {
   "cell_type": "markdown",
   "metadata": {},
   "source": [
    "### Get Datasets\n",
    "The following code demontrates how to get a list of datasets."
   ]
  },
  {
   "cell_type": "code",
   "execution_count": 21,
   "metadata": {},
   "outputs": [
    {
     "name": "stdout",
     "output_type": "stream",
     "text": [
      "AC_AT_DEF ACE Hourly RTN, GSE and J2000 GCI Attitude direction cosines - E. C. Stone (California Institute of Technology)\n",
      "AC_H0_MFI H0 - ACE Magnetic Field 16-Second Level 2 Data - N. Ness (Bartol Research Institute)\n",
      "AC_H1_MFI H1 - ACE Magnetic Field 4-Minute Level 2 Data - N. Ness (Bartol Research Institute)\n",
      "AC_H2_MFI H2 - ACE Magnetic Field 1-Hour Level 2 Data - N. Ness (Bartol Research Institute)\n",
      "AC_H3_MFI H3 - ACE Magnetic Field 1-Second Level 2 Data - N. Ness (Bartol Research Institute)\n",
      "AC_K0_GIFWALK Links to ACE KP pre-generated survey and other plots - Polar-Wind-Geotail Ground System (NASA GSFC)\n"
     ]
    }
   ],
   "source": [
    "datasets = cdas.get_datasets(observatoryGroup='ACE',\n",
    "                             instrumentType='Magnetic Fields (space)')\n",
    "for index, dataset in enumerate(datasets):\n",
    "    print(dataset['Id'], dataset['Label'])\n",
    "    if index == 5:\n",
    "        break"
   ]
  },
  {
   "cell_type": "markdown",
   "metadata": {},
   "source": [
    "### Get Dataset Variables\n",
    "The following code demonstrates how to get a dataset's variables."
   ]
  },
  {
   "cell_type": "code",
   "execution_count": 22,
   "metadata": {},
   "outputs": [
    {
     "name": "stdout",
     "output_type": "stream",
     "text": [
      "Magnitude B-field magnitude\n",
      "BGSEc Magnetic Field Vector in GSE Cartesian coordinates (4 min)\n",
      "BGSM Magnetic field vector in GSM coordinates (4 min)\n",
      "SC_pos_GSE ACE s/c position, 3 comp. in GSE coord.\n",
      "SC_pos_GSM ACE s/c position, 3 comp. in GSM coord.\n"
     ]
    }
   ],
   "source": [
    "variables = cdas.get_variables('AC_H1_MFI')\n",
    "for variable in variables:\n",
    "    print(variable['Name'], variable['LongDescription'])"
   ]
  },
  {
   "cell_type": "markdown",
   "metadata": {},
   "source": [
    "### Get Data Example\n",
    "The following code demonstrates how to access magnetic field measurements\n",
    "from the [ACE mission dataset](https://cdaweb.gsfc.nasa.gov/misc/NotesA.html#AC_H1_MFI) using the cdasws package in a [Jupyter notebook](https://jupyter.org/)."
   ]
  },
  {
   "cell_type": "code",
   "execution_count": 23,
   "metadata": {},
   "outputs": [
    {
     "name": "stdout",
     "output_type": "stream",
     "text": [
      "<xarray.Dataset>\n",
      "Dimensions:    (Epoch: 3, cartesian: 3)\n",
      "Coordinates:\n",
      "  * Epoch      (Epoch) datetime64[ns] 2009-06-01 ... 2009-06-01T00:08:00\n",
      "  * cartesian  (cartesian) <U11 'x_component' 'y_component' 'z_component'\n",
      "    metavar0   (cartesian) <U6 'Bx GSE' 'By GSE' 'Bz GSE'\n",
      "Data variables:\n",
      "    Magnitude  (Epoch) float32 3.495 3.474 3.477\n",
      "    BGSEc      (Epoch, cartesian) float32 -0.106 2.521 -2.391 ... 2.309 -2.587\n",
      "Attributes:\n",
      "    TITLE:                       ACE> Magnetometer Parameters\n",
      "    Project:                     ISTP>International Solar-Terrestrial Physics\n",
      "    Discipline:                  Space Physics>Interplanetary Studies\n",
      "    Source_name:                 AC>Advanced Composition Explorer\n",
      "    Data_type:                   H1>4-Min Level 2 Data\n",
      "    Descriptor:                  MAG>ACE Magnetic Field Instrument\n",
      "    DATA_VERSION:                n\n",
      "    GENERATED_BY:                ACE Science Center\n",
      "    GENERATION_DATE:             88880131\n",
      "    LINK_TEXT:                   Release notes and other info available at\n",
      "    LINK_TITLE:                  the ACE Science Center Level 2 Data website\n",
      "    HTTP_LINK:                   http://www.srl.caltech.edu/ACE/ASC/level2/in...\n",
      "    Text:                        ['CDAWeb interface derived data on Mon Sep 1...\n",
      "    MODS:                        ['Initial Release 9/6/01', '12/04/02: Fixed ...\n",
      "    ADID_ref:                    NSSD0327\n",
      "    Logical_file_id:             ac_h1s_mfi_20090601000000_20090601000800\n",
      "    Logical_source:              AC_H1S_MFI\n",
      "    Logical_source_description:  DERIVED FROM: H1 - ACE Magnetic Field 4-Minu...\n",
      "    PI_name:                     N. Ness\n",
      "    PI_affiliation:              Bartol Research Institute\n",
      "    Mission_group:               ['ACE', '!___Interplanetary Data near 1 AU']\n",
      "    Instrument_type:             Magnetic Fields (space)\n",
      "    TIME_RESOLUTION:             4 minutes\n",
      "    WEB_SITE:                    http://www.srl.caltech.edu/ACE/\n",
      "    ACKNOWLEDGEMENT:             ['Please acknowledge the Principal', 'Invest...\n",
      "    RULES_OF_USE:                ['See the rules of use available from the AC...\n",
      "    ALT_LOGICAL_SOURCE:          ACE_MAG_Solar-Wind-Magnetic-Field-Level2-H1_...\n",
      "    SPASE_DATASETRESOURCEID:     spase://NASA/NumericalData/ACE/MAG/L2/PT4M\n",
      "    CDAWEB_PARENTS:              ['ac_h1_mfi_00000000_v01', 'ac_h1_mfi_200906...\n"
     ]
    }
   ],
   "source": [
    "data = cdas.get_data('AC_H1_MFI', ['Magnitude', 'BGSEc'],\n",
    "                     '2009-06-01T00:00:00Z', '2009-06-01T00:10:00Z',\n",
    "                     dataRepresentation = DataRepresentation.XARRAY)[1]\n",
    "print(data)"
   ]
  },
  {
   "cell_type": "markdown",
   "metadata": {},
   "source": [
    "### Display Metadata\n",
    "\n",
    "To display metadata for the Magnitude variable, do"
   ]
  },
  {
   "cell_type": "code",
   "execution_count": 24,
   "metadata": {},
   "outputs": [
    {
     "name": "stdout",
     "output_type": "stream",
     "text": [
      "<xarray.DataArray 'Magnitude' (Epoch: 3)>\n",
      "array([3.495, 3.474, 3.477], dtype=float32)\n",
      "Coordinates:\n",
      "  * Epoch    (Epoch) datetime64[ns] 2009-06-01 ... 2009-06-01T00:08:00\n",
      "Attributes:\n",
      "    FIELDNAM:       B-field magnitude\n",
      "    VALIDMIN:       [0.]\n",
      "    VALIDMAX:       [500.]\n",
      "    SCALEMIN:       [0.]\n",
      "    SCALEMAX:       [10.]\n",
      "    UNITS:          nT\n",
      "    FORMAT:         F8.3\n",
      "    VAR_TYPE:       data\n",
      "    DICT_KEY:       magnetic_field>magnitude\n",
      "    FILLVAL:        [-1.e+31]\n",
      "    DEPEND_0:       Epoch\n",
      "    CATDESC:        B-field magnitude\n",
      "    LABLAXIS:       <|B|>\n",
      "    DISPLAY_TYPE:   time_series\n",
      "    DIM_SIZES:      [0]\n",
      "    standard_name:  B-field magnitude\n",
      "    units:          nT\n",
      "    long_name:      <|B|>\n"
     ]
    }
   ],
   "source": [
    "print(data.Magnitude)"
   ]
  },
  {
   "cell_type": "markdown",
   "metadata": {},
   "source": [
    "### Plot Values\n",
    "\n",
    "To plot the Magnitude values using the label values from the metadata, do"
   ]
  },
  {
   "cell_type": "code",
   "execution_count": 25,
   "metadata": {},
   "outputs": [
    {
     "data": {
      "text/plain": [
       "[<matplotlib.lines.Line2D at 0x7efbaf37d898>]"
      ]
     },
     "execution_count": 25,
     "metadata": {},
     "output_type": "execute_result"
    },
    {
     "data": {
      "image/png": "[encoded data removed]",
      "text/plain": [
       "<Figure size 432x288 with 1 Axes>"
      ]
     },
     "metadata": {
      "needs_background": "light"
     },
     "output_type": "display_data"
    }
   ],
   "source": [
    "data['Magnitude'].plot()"
   ]
  },
  {
   "cell_type": "markdown",
   "metadata": {},
   "source": [
    "### Binning Example\n",
    "For analysis, it is often useful to place two datasets that have different timestamps on the same time grid.  The following demonstrates doing this with cdasws and the datasets [AC_H0_SWE](https://cdaweb.gsfc.nasa.gov/misc/NotesA.html#AC_H0_SWE) and [AC_H2_SWE](https://cdaweb.gsfc.nasa.gov/misc/NotesA.html#AC_H2_SWE).  For more information on binning, see [binning in cdaweb](https://cdaweb.gsfc.nasa.gov/CDAWeb_Binning_readme.html)."
   ]
  },
  {
   "cell_type": "markdown",
   "metadata": {},
   "source": [
    "#### Display Original Data\n",
    "Get and display the data."
   ]
  },
  {
   "cell_type": "code",
   "execution_count": 26,
   "metadata": {},
   "outputs": [
    {
     "name": "stdout",
     "output_type": "stream",
     "text": [
      "<xarray.DataArray 'Np' (Epoch: 2700)>\n",
      "array([    nan,     nan,     nan, ..., 14.4819, 14.9483, 13.5783],\n",
      "      dtype=float32)\n",
      "Coordinates:\n",
      "  * Epoch    (Epoch) datetime64[ns] 1998-02-04T00:00:31 ... 1998-02-05T23:59:27\n",
      "Attributes:\n",
      "    FIELDNAM:       Proton No. density\n",
      "    VALIDMIN:       [0.]\n",
      "    VALIDMAX:       [200.]\n",
      "    SCALEMIN:       [0.]\n",
      "    SCALEMAX:       [100.]\n",
      "    LABLAXIS:       H_Density\n",
      "    UNITS:          #/cc\n",
      "    VAR_TYPE:       data\n",
      "    FORMAT:         F8.4\n",
      "    FILLVAL:        [-1.e+31]\n",
      "    DEPEND_0:       Epoch\n",
      "    DICT_KEY:       density>\n",
      "    CATDESC:        Solar Wind Proton Number Density, scalar\n",
      "    DISPLAY_TYPE:   time_series\n",
      "    VAR_NOTES:      Np is the proton number density in units of cm-3, as calc...\n",
      "    DIM_SIZES:      [0]\n",
      "    standard_name:  Proton No. density\n",
      "    long_name:      H_Density\n",
      "    units:          #/cc\n",
      "<xarray.DataArray 'Np' (Epoch: 49)>\n",
      "array([    nan,     nan,     nan,     nan,     nan,     nan,     nan,\n",
      "           nan,     nan,     nan,     nan,     nan,     nan,     nan,\n",
      "           nan,     nan,     nan,     nan,     nan,     nan,     nan,\n",
      "           nan,     nan, 15.0185, 16.6551, 20.601 , 18.6789, 18.4808,\n",
      "       28.3151, 22.9591, 26.7127, 28.7503, 31.1556, 29.8451, 29.6215,\n",
      "       31.9601, 28.8363, 23.4173, 25.8818, 25.0207, 27.6192, 25.6742,\n",
      "       25.6151, 20.008 , 14.9786, 12.0008, 13.4287, 10.4862, 10.6203],\n",
      "      dtype=float32)\n",
      "Coordinates:\n",
      "  * Epoch    (Epoch) datetime64[ns] 1998-02-04 ... 1998-02-06\n",
      "Attributes:\n",
      "    FIELDNAM:       Proton No. density\n",
      "    VALIDMIN:       [0.]\n",
      "    VALIDMAX:       [200.]\n",
      "    SCALEMIN:       [0.]\n",
      "    SCALEMAX:       [100.]\n",
      "    LABLAXIS:       H_Density\n",
      "    UNITS:          #/cc\n",
      "    VAR_TYPE:       data\n",
      "    FORMAT:         F8.4\n",
      "    FILLVAL:        [-1.e+31]\n",
      "    DEPEND_0:       Epoch\n",
      "    DICT_KEY:       density>\n",
      "    CATDESC:        Solar Wind Proton Number Density, scalar\n",
      "    DISPLAY_TYPE:   time_series\n",
      "    VAR_NOTES:      Np is the proton number density in units of cm-3, as calc...\n",
      "    DIM_SIZES:      [0]\n",
      "    standard_name:  Proton No. density\n",
      "    long_name:      H_Density\n",
      "    units:          #/cc\n"
     ]
    }
   ],
   "source": [
    "    dataset0 = 'AC_H0_SWE'\n",
    "    parameters = ['Np']\n",
    "    start = '1998-02-04T00:00:00Z'\n",
    "    stop = '1998-02-06T00:00:00Z'\n",
    "    status, data0 = cdas.get_data(dataset0, parameters, start, stop,\n",
    "                     dataRepresentation = DataRepresentation.XARRAY)\n",
    "    print(data0.Np)\n",
    "    dataset1 = 'AC_H2_SWE'\n",
    "    status, data1 = cdas.get_data(dataset1, parameters, start, stop,\n",
    "                     dataRepresentation = DataRepresentation.XARRAY)\n",
    "    print(data1.Np)"
   ]
  },
  {
   "cell_type": "markdown",
   "metadata": {},
   "source": [
    "#### Bin Data\n",
    "Bin the data with 60 second interval and interpolate any missing values."
   ]
  },
  {
   "cell_type": "code",
   "execution_count": 27,
   "metadata": {},
   "outputs": [
    {
     "name": "stdout",
     "output_type": "stream",
     "text": [
      "<xarray.DataArray 'Np' (Epoch_bin: 2880)>\n",
      "array([16.3343, 16.3343, 16.3343, ..., 14.4819, 14.9483, 13.5783],\n",
      "      dtype=float32)\n",
      "Coordinates:\n",
      "  * Epoch_bin               (Epoch_bin) datetime64[ns] 1998-02-04T00:00:30 .....\n",
      "    NP_BIN_DELTA_MINUS_VAR  (Epoch_bin) float32 nan nan nan nan ... nan nan nan\n",
      "    NP_BIN_DELTA_PLUS_VAR   (Epoch_bin) float32 nan nan nan nan ... nan nan nan\n",
      "Attributes:\n",
      "    FIELDNAM:         Proton No. density\n",
      "    VALIDMIN:         [0.]\n",
      "    VALIDMAX:         [200.]\n",
      "    SCALEMIN:         [0.]\n",
      "    SCALEMAX:         [100.]\n",
      "    LABLAXIS:         H_Density\n",
      "    UNITS:            #/cc\n",
      "    VAR_TYPE:         data\n",
      "    FORMAT:           F8.4\n",
      "    FILLVAL:          [-1.e+31]\n",
      "    DEPEND_0:         Epoch_bin\n",
      "    DICT_KEY:         density>\n",
      "    CATDESC:          Solar Wind Proton Number Density, scalar\n",
      "    DELTA_PLUS_VAR:   NP_BIN_DELTA_PLUS_VAR\n",
      "    DELTA_MINUS_VAR:  NP_BIN_DELTA_MINUS_VAR\n",
      "    DISPLAY_TYPE:     time_series\n",
      "    VAR_NOTES:        Np is the proton number density in units of cm-3, as ca...\n",
      "    DIM_SIZES:        [0]\n",
      "    standard_name:    Proton No. density\n",
      "    long_name:        H_Density\n",
      "    units:            #/cc\n",
      "<xarray.DataArray 'Np' (Epoch_bin: 2880)>\n",
      "array([16.6551, 16.6551, 16.6551, ..., 10.4862, 10.4862, 10.4862],\n",
      "      dtype=float32)\n",
      "Coordinates:\n",
      "  * Epoch_bin               (Epoch_bin) datetime64[ns] 1998-02-04T00:00:30 .....\n",
      "    NP_BIN_DELTA_MINUS_VAR  (Epoch_bin) float32 nan nan nan nan ... nan nan nan\n",
      "    NP_BIN_DELTA_PLUS_VAR   (Epoch_bin) float32 nan nan nan nan ... nan nan nan\n",
      "Attributes:\n",
      "    FIELDNAM:         Proton No. density\n",
      "    VALIDMIN:         [0.]\n",
      "    VALIDMAX:         [200.]\n",
      "    SCALEMIN:         [0.]\n",
      "    SCALEMAX:         [100.]\n",
      "    LABLAXIS:         H_Density\n",
      "    UNITS:            #/cc\n",
      "    VAR_TYPE:         data\n",
      "    FORMAT:           F8.4\n",
      "    FILLVAL:          [-1.e+31]\n",
      "    DEPEND_0:         Epoch_bin\n",
      "    DICT_KEY:         density>\n",
      "    CATDESC:          Solar Wind Proton Number Density, scalar\n",
      "    DELTA_PLUS_VAR:   NP_BIN_DELTA_PLUS_VAR\n",
      "    DELTA_MINUS_VAR:  NP_BIN_DELTA_MINUS_VAR\n",
      "    DISPLAY_TYPE:     time_series\n",
      "    VAR_NOTES:        Np is the proton number density in units of cm-3, as ca...\n",
      "    DIM_SIZES:        [0]\n",
      "    standard_name:    Proton No. density\n",
      "    long_name:        H_Density\n",
      "    units:            #/cc\n"
     ]
    }
   ],
   "source": [
    "    binData = {\n",
    "        'interval': 60.0,\n",
    "        'interpolateMissingValues': True,\n",
    "        'sigmaMultiplier': 4\n",
    "    }\n",
    "    status, data0 = cdas.get_data(dataset0, parameters, start, stop,\n",
    "                     dataRepresentation = DataRepresentation.XARRAY, binData=binData)\n",
    "    print(data0.Np)\n",
    "    status, data1 = cdas.get_data(dataset1, parameters, start, stop,\n",
    "                     dataRepresentation = DataRepresentation.XARRAY, binData=binData)\n",
    "    print(data1.Np)"
   ]
  },
  {
   "cell_type": "markdown",
   "metadata": {},
   "source": [
    "### Compare Data\n",
    "Compare the binned data from the two datasets."
   ]
  },
  {
   "cell_type": "code",
   "execution_count": 28,
   "metadata": {},
   "outputs": [
    {
     "data": {
      "text/plain": [
       "[<matplotlib.lines.Line2D at 0x7efba725cdd8>]"
      ]
     },
     "execution_count": 28,
     "metadata": {},
     "output_type": "execute_result"
    },
    {
     "data": {
      "image/png": "[encoded data removed]",
      "text/plain": [
       "<Figure size 432x288 with 1 Axes>"
      ]
     },
     "metadata": {
      "needs_background": "light"
     },
     "output_type": "display_data"
    }
   ],
   "source": [
    "data0['Np'].plot()\n",
    "data1['Np'].plot()"
   ]
  },
  {
   "cell_type": "markdown",
   "metadata": {},
   "source": [
    "### DOI Example\n",
    "To get data from a dataset with a [digital object identifier](https://en.wikipedia.org/wiki/Digital_object_identifier) do the following: "
   ]
  },
  {
   "cell_type": "code",
   "execution_count": 29,
   "metadata": {},
   "outputs": [
    {
     "name": "stdout",
     "output_type": "stream",
     "text": [
      "<xarray.DataArray 'BT' (Epoch: 15024)>\n",
      "array([89.8591, 89.7978, 89.7269, ..., 18.5909, 18.6276, 18.5359],\n",
      "      dtype=float32)\n",
      "Coordinates:\n",
      "  * Epoch    (Epoch) datetime64[ns] 1987-09-24T00:30:01.567000 ... 1987-09-24...\n",
      "Attributes:\n",
      "    FIELDNAM:       BTOT\n",
      "    CATDESC:        Total Magnetic Field: 12-sec avg at 4-sec intervals\n",
      "    DEPEND_0:       Epoch\n",
      "    DISPLAY_TYPE:   time_series\n",
      "    FILLVAL:        [-1.e+31]\n",
      "    FORMAT:         F9.2\n",
      "    LABLAXIS:       BTOT (SC)\n",
      "    UNITS:          nT\n",
      "    VALIDMIN:       [0.01]\n",
      "    VALIDMAX:       [40000.]\n",
      "    VAR_TYPE:       data\n",
      "    SCALETYP:       linear\n",
      "    DIM_SIZES:      [0]\n",
      "    standard_name:  BTOT\n",
      "    long_name:      BTOT (SC)\n",
      "    units:          nT\n"
     ]
    }
   ],
   "source": [
    "status, data = cdas.get_data('10.21978/P8PG8V', ['BT'], \n",
    "                             '1987-09-24T00:00:00Z', '1987-09-25T00:00:00Z',\n",
    "                            dataRepresentation = DataRepresentation.XARRAY)\n",
    "print(data.BT)"
   ]
  },
  {
   "cell_type": "markdown",
   "metadata": {},
   "source": [
    "### Additional Documentation\n",
    "\n",
    "View the [cdasws API](https://cdaweb.gsfc.nasa.gov/WebServices/REST/py/cdasws/) for additional functions.  Additional [notebook examples](https://cdaweb.gsfc.nasa.gov/WebServices/REST/#Jupyter_Notebook_Examples) are also available."
   ]
  },
  {
   "cell_type": "code",
   "execution_count": null,
   "metadata": {},
   "outputs": [],
   "source": []
  }
 ],
 "metadata": {
  "kernelspec": {
   "display_name": "Python 3",
   "language": "python",
   "name": "python3"
  },
  "language_info": {
   "codemirror_mode": {
    "name": "ipython",
    "version": 3
   },
   "file_extension": ".py",
   "mimetype": "text/x-python",
   "name": "python",
   "nbconvert_exporter": "python",
   "pygments_lexer": "ipython3",
   "version": "3.6.12"
  }
 },
 "nbformat": 4,
 "nbformat_minor": 4
}
